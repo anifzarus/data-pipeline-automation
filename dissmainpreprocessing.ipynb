{
  "nbformat": 4,
  "nbformat_minor": 0,
  "metadata": {
    "colab": {
      "provenance": []
    },
    "kernelspec": {
      "name": "python3",
      "display_name": "Python 3"
    },
    "language_info": {
      "name": "python"
    }
  },
  "cells": [
    {
      "cell_type": "code",
      "execution_count": null,
      "metadata": {
        "colab": {
          "base_uri": "https://localhost:8080/"
        },
        "id": "Rr5u2TG1cAhF",
        "outputId": "6fe29692-6b9c-456a-da4e-42bb287973b5"
      },
      "outputs": [
        {
          "output_type": "stream",
          "name": "stdout",
          "text": [
            "Collecting azure-storage-blob\n",
            "  Downloading azure_storage_blob-12.25.1-py3-none-any.whl.metadata (26 kB)\n",
            "Collecting azure-identity\n",
            "  Downloading azure_identity-1.21.0-py3-none-any.whl.metadata (81 kB)\n",
            "\u001b[2K     \u001b[90m━━━━━━━━━━━━━━━━━━━━━━━━━━━━━━━━━━━━━━━━\u001b[0m \u001b[32m81.3/81.3 kB\u001b[0m \u001b[31m4.4 MB/s\u001b[0m eta \u001b[36m0:00:00\u001b[0m\n",
            "\u001b[?25hCollecting azure-core>=1.30.0 (from azure-storage-blob)\n",
            "  Downloading azure_core-1.33.0-py3-none-any.whl.metadata (42 kB)\n",
            "\u001b[2K     \u001b[90m━━━━━━━━━━━━━━━━━━━━━━━━━━━━━━━━━━━━━━━━\u001b[0m \u001b[32m42.6/42.6 kB\u001b[0m \u001b[31m2.2 MB/s\u001b[0m eta \u001b[36m0:00:00\u001b[0m\n",
            "\u001b[?25hRequirement already satisfied: cryptography>=2.1.4 in /usr/local/lib/python3.11/dist-packages (from azure-storage-blob) (43.0.3)\n",
            "Requirement already satisfied: typing-extensions>=4.6.0 in /usr/local/lib/python3.11/dist-packages (from azure-storage-blob) (4.13.2)\n",
            "Collecting isodate>=0.6.1 (from azure-storage-blob)\n",
            "  Downloading isodate-0.7.2-py3-none-any.whl.metadata (11 kB)\n",
            "Collecting msal>=1.30.0 (from azure-identity)\n",
            "  Downloading msal-1.32.0-py3-none-any.whl.metadata (11 kB)\n",
            "Collecting msal-extensions>=1.2.0 (from azure-identity)\n",
            "  Downloading msal_extensions-1.3.1-py3-none-any.whl.metadata (7.8 kB)\n",
            "Requirement already satisfied: requests>=2.21.0 in /usr/local/lib/python3.11/dist-packages (from azure-core>=1.30.0->azure-storage-blob) (2.32.3)\n",
            "Requirement already satisfied: six>=1.11.0 in /usr/local/lib/python3.11/dist-packages (from azure-core>=1.30.0->azure-storage-blob) (1.17.0)\n",
            "Requirement already satisfied: cffi>=1.12 in /usr/local/lib/python3.11/dist-packages (from cryptography>=2.1.4->azure-storage-blob) (1.17.1)\n",
            "Requirement already satisfied: PyJWT<3,>=1.0.0 in /usr/local/lib/python3.11/dist-packages (from PyJWT[crypto]<3,>=1.0.0->msal>=1.30.0->azure-identity) (2.10.1)\n",
            "Requirement already satisfied: pycparser in /usr/local/lib/python3.11/dist-packages (from cffi>=1.12->cryptography>=2.1.4->azure-storage-blob) (2.22)\n",
            "Requirement already satisfied: charset-normalizer<4,>=2 in /usr/local/lib/python3.11/dist-packages (from requests>=2.21.0->azure-core>=1.30.0->azure-storage-blob) (3.4.1)\n",
            "Requirement already satisfied: idna<4,>=2.5 in /usr/local/lib/python3.11/dist-packages (from requests>=2.21.0->azure-core>=1.30.0->azure-storage-blob) (3.10)\n",
            "Requirement already satisfied: urllib3<3,>=1.21.1 in /usr/local/lib/python3.11/dist-packages (from requests>=2.21.0->azure-core>=1.30.0->azure-storage-blob) (2.3.0)\n",
            "Requirement already satisfied: certifi>=2017.4.17 in /usr/local/lib/python3.11/dist-packages (from requests>=2.21.0->azure-core>=1.30.0->azure-storage-blob) (2025.1.31)\n",
            "Downloading azure_storage_blob-12.25.1-py3-none-any.whl (406 kB)\n",
            "\u001b[2K   \u001b[90m━━━━━━━━━━━━━━━━━━━━━━━━━━━━━━━━━━━━━━━━\u001b[0m \u001b[32m407.0/407.0 kB\u001b[0m \u001b[31m19.4 MB/s\u001b[0m eta \u001b[36m0:00:00\u001b[0m\n",
            "\u001b[?25hDownloading azure_identity-1.21.0-py3-none-any.whl (189 kB)\n",
            "\u001b[2K   \u001b[90m━━━━━━━━━━━━━━━━━━━━━━━━━━━━━━━━━━━━━━━━\u001b[0m \u001b[32m189.2/189.2 kB\u001b[0m \u001b[31m12.5 MB/s\u001b[0m eta \u001b[36m0:00:00\u001b[0m\n",
            "\u001b[?25hDownloading azure_core-1.33.0-py3-none-any.whl (207 kB)\n",
            "\u001b[2K   \u001b[90m━━━━━━━━━━━━━━━━━━━━━━━━━━━━━━━━━━━━━━━━\u001b[0m \u001b[32m207.1/207.1 kB\u001b[0m \u001b[31m15.6 MB/s\u001b[0m eta \u001b[36m0:00:00\u001b[0m\n",
            "\u001b[?25hDownloading isodate-0.7.2-py3-none-any.whl (22 kB)\n",
            "Downloading msal-1.32.0-py3-none-any.whl (114 kB)\n",
            "\u001b[2K   \u001b[90m━━━━━━━━━━━━━━━━━━━━━━━━━━━━━━━━━━━━━━━━\u001b[0m \u001b[32m114.7/114.7 kB\u001b[0m \u001b[31m7.4 MB/s\u001b[0m eta \u001b[36m0:00:00\u001b[0m\n",
            "\u001b[?25hDownloading msal_extensions-1.3.1-py3-none-any.whl (20 kB)\n",
            "Installing collected packages: isodate, azure-core, azure-storage-blob, msal, msal-extensions, azure-identity\n",
            "Successfully installed azure-core-1.33.0 azure-identity-1.21.0 azure-storage-blob-12.25.1 isodate-0.7.2 msal-1.32.0 msal-extensions-1.3.1\n"
          ]
        }
      ],
      "source": [
        "#installing azure blob storage\n",
        "pip install azure-storage-blob azure-identity"
      ]
    },
    {
      "cell_type": "code",
      "source": [
        "from pyspark.sql import SparkSession\n",
        "from azure.storage.blob import BlobServiceClient"
      ],
      "metadata": {
        "id": "v-xOD7fTcG5x"
      },
      "execution_count": null,
      "outputs": []
    },
    {
      "cell_type": "code",
      "source": [
        "#starting the spark session\n",
        "spark = SparkSession.builder.appName(\"DataCleaningmain\").getOrCreate()"
      ],
      "metadata": {
        "id": "OEXiPfHccSdz"
      },
      "execution_count": null,
      "outputs": []
    },
    {
      "cell_type": "code",
      "source": [
        "spark"
      ],
      "metadata": {
        "colab": {
          "base_uri": "https://localhost:8080/",
          "height": 219
        },
        "id": "CJb0XUQRcWan",
        "outputId": "ec1e1272-387a-48ac-efa7-3881b1ae0872"
      },
      "execution_count": null,
      "outputs": [
        {
          "output_type": "execute_result",
          "data": {
            "text/plain": [
              "<pyspark.sql.session.SparkSession at 0x7a29f5700250>"
            ],
            "text/html": [
              "\n",
              "            <div>\n",
              "                <p><b>SparkSession - in-memory</b></p>\n",
              "                \n",
              "        <div>\n",
              "            <p><b>SparkContext</b></p>\n",
              "\n",
              "            <p><a href=\"http://39ccc1d55d0c:4040\">Spark UI</a></p>\n",
              "\n",
              "            <dl>\n",
              "              <dt>Version</dt>\n",
              "                <dd><code>v3.5.5</code></dd>\n",
              "              <dt>Master</dt>\n",
              "                <dd><code>local[*]</code></dd>\n",
              "              <dt>AppName</dt>\n",
              "                <dd><code>DataCleaningmain</code></dd>\n",
              "            </dl>\n",
              "        </div>\n",
              "        \n",
              "            </div>\n",
              "        "
            ]
          },
          "metadata": {},
          "execution_count": 4
        }
      ]
    },
    {
      "cell_type": "code",
      "source": [
        "#connecting to blob storage to retrieve the data for preprocessing\n",
        "connection_string = \"DefaultEndpointsProtocol=https;AccountName=dissprojectx23307609;AccountKey=+4LUHeOkuJUdUpYkPdnBC16BIhP1uYaiv5r+pzUfKQfYWbztbnYZm2g+QZyo0m8ZnEzzi2GZXV3Q+AStKbxh5A==;EndpointSuffix=core.windows.net\"\n",
        "container_name = \"datasets\"  # or whatever your container is called\n",
        "#local_file_path = \"order_city_dataset.csv\"  # path to the file you want to upload\n",
        "blob_name = \"Motor_Vehicle_Collisions_-_Crashes.csv\"  # name it will have in Blob Storage\n",
        "\n",
        "\n",
        "local_file_path = \"/content/Motor_Vehicle_Collisions_-_Crashes.csv\"\n",
        "\n",
        "blob_service_client = BlobServiceClient.from_connection_string(connection_string)\n",
        "blob_client = blob_service_client.get_blob_client(container=container_name, blob=blob_name)\n",
        "\n",
        "with open(local_file_path, \"wb\") as file:\n",
        "    blob_data = blob_client.download_blob()\n",
        "    blob_data.readinto(file)\n",
        "\n",
        "print(f\" File downloaded to {local_file_path}\")"
      ],
      "metadata": {
        "id": "SRBOcGspcaz9"
      },
      "execution_count": null,
      "outputs": []
    },
    {
      "cell_type": "code",
      "source": [
        "df = spark.read.csv(local_file_path, header=True, inferSchema=True)\n",
        "\n",
        "# loading the file and invetigating the dataset\n",
        "df.show(5)"
      ],
      "metadata": {
        "colab": {
          "base_uri": "https://localhost:8080/"
        },
        "id": "pixWOOtQcmV6",
        "outputId": "9dfe1f50-b53d-4943-8800-a47e0369054e"
      },
      "execution_count": null,
      "outputs": [
        {
          "output_type": "stream",
          "name": "stdout",
          "text": [
            "+----------+----------+--------+--------+--------+----------+--------------------+--------------------+-----------------+---------------+-------------------------+------------------------+-----------------------------+----------------------------+-------------------------+------------------------+--------------------------+-------------------------+-----------------------------+-----------------------------+-----------------------------+-----------------------------+-----------------------------+------------+--------------------+-------------------+-------------------+-------------------+-------------------+\n",
            "|CRASH DATE|CRASH TIME| BOROUGH|ZIP CODE|LATITUDE| LONGITUDE|            LOCATION|      ON STREET NAME|CROSS STREET NAME|OFF STREET NAME|NUMBER OF PERSONS INJURED|NUMBER OF PERSONS KILLED|NUMBER OF PEDESTRIANS INJURED|NUMBER OF PEDESTRIANS KILLED|NUMBER OF CYCLIST INJURED|NUMBER OF CYCLIST KILLED|NUMBER OF MOTORIST INJURED|NUMBER OF MOTORIST KILLED|CONTRIBUTING FACTOR VEHICLE 1|CONTRIBUTING FACTOR VEHICLE 2|CONTRIBUTING FACTOR VEHICLE 3|CONTRIBUTING FACTOR VEHICLE 4|CONTRIBUTING FACTOR VEHICLE 5|COLLISION_ID| VEHICLE TYPE CODE 1|VEHICLE TYPE CODE 2|VEHICLE TYPE CODE 3|VEHICLE TYPE CODE 4|VEHICLE TYPE CODE 5|\n",
            "+----------+----------+--------+--------+--------+----------+--------------------+--------------------+-----------------+---------------+-------------------------+------------------------+-----------------------------+----------------------------+-------------------------+------------------------+--------------------------+-------------------------+-----------------------------+-----------------------------+-----------------------------+-----------------------------+-----------------------------+------------+--------------------+-------------------+-------------------+-------------------+-------------------+\n",
            "|09/11/2021|      2:39|    NULL|    NULL|    NULL|      NULL|                NULL|WHITESTONE EXPRES...|        20 AVENUE|           NULL|                        2|                       0|                            0|                           0|                        0|                       0|                         2|                        0|         Aggressive Drivin...|                  Unspecified|                         NULL|                         NULL|                         NULL|     4455765|               Sedan|              Sedan|               NULL|               NULL|               NULL|\n",
            "|03/26/2022|     11:45|    NULL|    NULL|    NULL|      NULL|                NULL|QUEENSBORO BRIDGE...|             NULL|           NULL|                        1|                       0|                            0|                           0|                        0|                       0|                         1|                        0|            Pavement Slippery|                         NULL|                         NULL|                         NULL|                         NULL|     4513547|               Sedan|               NULL|               NULL|               NULL|               NULL|\n",
            "|11/01/2023|      1:29|BROOKLYN|   11230|40.62179|-73.970024|(40.62179, -73.97...|       OCEAN PARKWAY|         AVENUE K|           NULL|                        1|                       0|                            0|                           0|                        0|                       0|                         1|                        0|                  Unspecified|                  Unspecified|                  Unspecified|                         NULL|                         NULL|     4675373|               Moped|              Sedan|              Sedan|               NULL|               NULL|\n",
            "|06/29/2022|      6:55|    NULL|    NULL|    NULL|      NULL|                NULL|  THROGS NECK BRIDGE|             NULL|           NULL|                        0|                       0|                            0|                           0|                        0|                       0|                         0|                        0|         Following Too Clo...|                  Unspecified|                         NULL|                         NULL|                         NULL|     4541903|               Sedan|      Pick-up Truck|               NULL|               NULL|               NULL|\n",
            "|09/21/2022|     13:21|    NULL|    NULL|    NULL|      NULL|                NULL|     BROOKLYN BRIDGE|             NULL|           NULL|                        0|                       0|                            0|                           0|                        0|                       0|                         0|                        0|          Passing Too Closely|                  Unspecified|                         NULL|                         NULL|                         NULL|     4566131|Station Wagon/Spo...|               NULL|               NULL|               NULL|               NULL|\n",
            "+----------+----------+--------+--------+--------+----------+--------------------+--------------------+-----------------+---------------+-------------------------+------------------------+-----------------------------+----------------------------+-------------------------+------------------------+--------------------------+-------------------------+-----------------------------+-----------------------------+-----------------------------+-----------------------------+-----------------------------+------------+--------------------+-------------------+-------------------+-------------------+-------------------+\n",
            "only showing top 5 rows\n",
            "\n"
          ]
        }
      ]
    },
    {
      "cell_type": "code",
      "source": [
        "#shows the datatype and nullable values of the dataset\n",
        "df.printSchema()"
      ],
      "metadata": {
        "colab": {
          "base_uri": "https://localhost:8080/"
        },
        "id": "f19n7_1acyif",
        "outputId": "2305fb0c-9410-43cd-d231-672793288dcf"
      },
      "execution_count": null,
      "outputs": [
        {
          "output_type": "stream",
          "name": "stdout",
          "text": [
            "root\n",
            " |-- CRASH DATE: string (nullable = true)\n",
            " |-- CRASH TIME: string (nullable = true)\n",
            " |-- BOROUGH: string (nullable = true)\n",
            " |-- ZIP CODE: string (nullable = true)\n",
            " |-- LATITUDE: double (nullable = true)\n",
            " |-- LONGITUDE: double (nullable = true)\n",
            " |-- LOCATION: string (nullable = true)\n",
            " |-- ON STREET NAME: string (nullable = true)\n",
            " |-- CROSS STREET NAME: string (nullable = true)\n",
            " |-- OFF STREET NAME: string (nullable = true)\n",
            " |-- NUMBER OF PERSONS INJURED: string (nullable = true)\n",
            " |-- NUMBER OF PERSONS KILLED: integer (nullable = true)\n",
            " |-- NUMBER OF PEDESTRIANS INJURED: integer (nullable = true)\n",
            " |-- NUMBER OF PEDESTRIANS KILLED: integer (nullable = true)\n",
            " |-- NUMBER OF CYCLIST INJURED: integer (nullable = true)\n",
            " |-- NUMBER OF CYCLIST KILLED: string (nullable = true)\n",
            " |-- NUMBER OF MOTORIST INJURED: string (nullable = true)\n",
            " |-- NUMBER OF MOTORIST KILLED: integer (nullable = true)\n",
            " |-- CONTRIBUTING FACTOR VEHICLE 1: string (nullable = true)\n",
            " |-- CONTRIBUTING FACTOR VEHICLE 2: string (nullable = true)\n",
            " |-- CONTRIBUTING FACTOR VEHICLE 3: string (nullable = true)\n",
            " |-- CONTRIBUTING FACTOR VEHICLE 4: string (nullable = true)\n",
            " |-- CONTRIBUTING FACTOR VEHICLE 5: string (nullable = true)\n",
            " |-- COLLISION_ID: integer (nullable = true)\n",
            " |-- VEHICLE TYPE CODE 1: string (nullable = true)\n",
            " |-- VEHICLE TYPE CODE 2: string (nullable = true)\n",
            " |-- VEHICLE TYPE CODE 3: string (nullable = true)\n",
            " |-- VEHICLE TYPE CODE 4: string (nullable = true)\n",
            " |-- VEHICLE TYPE CODE 5: string (nullable = true)\n",
            "\n"
          ]
        }
      ]
    },
    {
      "cell_type": "code",
      "source": [
        "from pyspark.sql import functions as F\n",
        "#check for the rows in the dataset\n",
        "df.rdd.count()"
      ],
      "metadata": {
        "colab": {
          "base_uri": "https://localhost:8080/"
        },
        "id": "oObvPjfPc5vw",
        "outputId": "0e71ddc7-a0f5-48fb-f56b-8d46f335666d"
      },
      "execution_count": null,
      "outputs": [
        {
          "output_type": "execute_result",
          "data": {
            "text/plain": [
              "2161035"
            ]
          },
          "metadata": {},
          "execution_count": 8
        }
      ]
    },
    {
      "cell_type": "code",
      "source": [
        "#check for null values in the dataset\n",
        "df.select([F.sum(F.col(c).isNull().cast(\"int\")).alias(c) for c in df.columns]).show()"
      ],
      "metadata": {
        "colab": {
          "base_uri": "https://localhost:8080/"
        },
        "id": "8imp0aUXdGS2",
        "outputId": "edf01606-354c-4e26-aae2-84dcf4168347"
      },
      "execution_count": null,
      "outputs": [
        {
          "output_type": "stream",
          "name": "stdout",
          "text": [
            "+----------+----------+-------+--------+--------+---------+--------+--------------+-----------------+---------------+-------------------------+------------------------+-----------------------------+----------------------------+-------------------------+------------------------+--------------------------+-------------------------+-----------------------------+-----------------------------+-----------------------------+-----------------------------+-----------------------------+------------+-------------------+-------------------+-------------------+-------------------+-------------------+\n",
            "|CRASH DATE|CRASH TIME|BOROUGH|ZIP CODE|LATITUDE|LONGITUDE|LOCATION|ON STREET NAME|CROSS STREET NAME|OFF STREET NAME|NUMBER OF PERSONS INJURED|NUMBER OF PERSONS KILLED|NUMBER OF PEDESTRIANS INJURED|NUMBER OF PEDESTRIANS KILLED|NUMBER OF CYCLIST INJURED|NUMBER OF CYCLIST KILLED|NUMBER OF MOTORIST INJURED|NUMBER OF MOTORIST KILLED|CONTRIBUTING FACTOR VEHICLE 1|CONTRIBUTING FACTOR VEHICLE 2|CONTRIBUTING FACTOR VEHICLE 3|CONTRIBUTING FACTOR VEHICLE 4|CONTRIBUTING FACTOR VEHICLE 5|COLLISION_ID|VEHICLE TYPE CODE 1|VEHICLE TYPE CODE 2|VEHICLE TYPE CODE 3|VEHICLE TYPE CODE 4|VEHICLE TYPE CODE 5|\n",
            "+----------+----------+-------+--------+--------+---------+--------+--------------+-----------------+---------------+-------------------------+------------------------+-----------------------------+----------------------------+-------------------------+------------------------+--------------------------+-------------------------+-----------------------------+-----------------------------+-----------------------------+-----------------------------+-----------------------------+------------+-------------------+-------------------+-------------------+-------------------+-------------------+\n",
            "|         0|         0| 668540|  668809|  239749|   239749|  239749|        465266|           824300|        1788142|                       19|                      33|                            2|                           2|                        1|                       1|                         1|                        2|                         7421|                       342481|                      2005196|                      2125550|                      2151348|           2|              15175|             425772|            2011097|            2126824|            2151648|\n",
            "+----------+----------+-------+--------+--------+---------+--------+--------------+-----------------+---------------+-------------------------+------------------------+-----------------------------+----------------------------+-------------------------+------------------------+--------------------------+-------------------------+-----------------------------+-----------------------------+-----------------------------+-----------------------------+-----------------------------+------------+-------------------+-------------------+-------------------+-------------------+-------------------+\n",
            "\n"
          ]
        }
      ]
    },
    {
      "cell_type": "code",
      "source": [
        "#columns present in the dataset\n",
        "df.columns"
      ],
      "metadata": {
        "colab": {
          "base_uri": "https://localhost:8080/"
        },
        "id": "pcGR6tIFefHa",
        "outputId": "bcc7aa06-09fc-401c-f555-505bc080b46a"
      },
      "execution_count": null,
      "outputs": [
        {
          "output_type": "execute_result",
          "data": {
            "text/plain": [
              "['CRASH DATE',\n",
              " 'CRASH TIME',\n",
              " 'BOROUGH',\n",
              " 'ZIP CODE',\n",
              " 'LATITUDE',\n",
              " 'LONGITUDE',\n",
              " 'LOCATION',\n",
              " 'ON STREET NAME',\n",
              " 'CROSS STREET NAME',\n",
              " 'OFF STREET NAME',\n",
              " 'NUMBER OF PERSONS INJURED',\n",
              " 'NUMBER OF PERSONS KILLED',\n",
              " 'NUMBER OF PEDESTRIANS INJURED',\n",
              " 'NUMBER OF PEDESTRIANS KILLED',\n",
              " 'NUMBER OF CYCLIST INJURED',\n",
              " 'NUMBER OF CYCLIST KILLED',\n",
              " 'NUMBER OF MOTORIST INJURED',\n",
              " 'NUMBER OF MOTORIST KILLED',\n",
              " 'CONTRIBUTING FACTOR VEHICLE 1',\n",
              " 'CONTRIBUTING FACTOR VEHICLE 2',\n",
              " 'CONTRIBUTING FACTOR VEHICLE 3',\n",
              " 'CONTRIBUTING FACTOR VEHICLE 4',\n",
              " 'CONTRIBUTING FACTOR VEHICLE 5',\n",
              " 'COLLISION_ID',\n",
              " 'VEHICLE TYPE CODE 1',\n",
              " 'VEHICLE TYPE CODE 2',\n",
              " 'VEHICLE TYPE CODE 3',\n",
              " 'VEHICLE TYPE CODE 4',\n",
              " 'VEHICLE TYPE CODE 5']"
            ]
          },
          "metadata": {},
          "execution_count": 10
        }
      ]
    },
    {
      "cell_type": "markdown",
      "source": [
        "Removing the columns that are unnecessary for the analysis and also columns with more null values. Will be assigning to a new variable since pyspark df is immutable."
      ],
      "metadata": {
        "id": "lFUAuiIheE7Y"
      }
    },
    {
      "cell_type": "code",
      "source": [
        "#dropping the unnecessary columns in the dataset\n",
        "modified_one_df = df.drop('ON STREET NAME',\n",
        " 'CROSS STREET NAME',\n",
        " 'OFF STREET NAME','VEHICLE TYPE CODE 3',\n",
        " 'VEHICLE TYPE CODE 4',\n",
        " 'VEHICLE TYPE CODE 5',\n",
        " 'CONTRIBUTING FACTOR VEHICLE 3',\n",
        " 'CONTRIBUTING FACTOR VEHICLE 4',\n",
        " 'CONTRIBUTING FACTOR VEHICLE 5','NUMBER OF PEDESTRIANS INJURED',\n",
        " 'NUMBER OF PEDESTRIANS KILLED',\n",
        " 'NUMBER OF CYCLIST INJURED',\n",
        " 'NUMBER OF CYCLIST KILLED',\n",
        " 'NUMBER OF MOTORIST INJURED',\n",
        " 'NUMBER OF MOTORIST KILLED')"
      ],
      "metadata": {
        "id": "g1VnMJXfdaau"
      },
      "execution_count": null,
      "outputs": []
    },
    {
      "cell_type": "code",
      "source": [
        "#updated column in new dataframe\n",
        "modified_one_df.show()"
      ],
      "metadata": {
        "colab": {
          "base_uri": "https://localhost:8080/"
        },
        "id": "NEor4Aiyezk9",
        "outputId": "fafdb159-b214-47cc-b2bc-9178e8959b48"
      },
      "execution_count": null,
      "outputs": [
        {
          "output_type": "stream",
          "name": "stdout",
          "text": [
            "+----------+----------+---------+--------+---------+----------+--------------------+-------------------------+------------------------+-----------------------------+-----------------------------+------------+--------------------+--------------------+\n",
            "|CRASH DATE|CRASH TIME|  BOROUGH|ZIP CODE| LATITUDE| LONGITUDE|            LOCATION|NUMBER OF PERSONS INJURED|NUMBER OF PERSONS KILLED|CONTRIBUTING FACTOR VEHICLE 1|CONTRIBUTING FACTOR VEHICLE 2|COLLISION_ID| VEHICLE TYPE CODE 1| VEHICLE TYPE CODE 2|\n",
            "+----------+----------+---------+--------+---------+----------+--------------------+-------------------------+------------------------+-----------------------------+-----------------------------+------------+--------------------+--------------------+\n",
            "|09/11/2021|      2:39|     NULL|    NULL|     NULL|      NULL|                NULL|                        2|                       0|         Aggressive Drivin...|                  Unspecified|     4455765|               Sedan|               Sedan|\n",
            "|03/26/2022|     11:45|     NULL|    NULL|     NULL|      NULL|                NULL|                        1|                       0|            Pavement Slippery|                         NULL|     4513547|               Sedan|                NULL|\n",
            "|11/01/2023|      1:29| BROOKLYN|   11230| 40.62179|-73.970024|(40.62179, -73.97...|                        1|                       0|                  Unspecified|                  Unspecified|     4675373|               Moped|               Sedan|\n",
            "|06/29/2022|      6:55|     NULL|    NULL|     NULL|      NULL|                NULL|                        0|                       0|         Following Too Clo...|                  Unspecified|     4541903|               Sedan|       Pick-up Truck|\n",
            "|09/21/2022|     13:21|     NULL|    NULL|     NULL|      NULL|                NULL|                        0|                       0|          Passing Too Closely|                  Unspecified|     4566131|Station Wagon/Spo...|                NULL|\n",
            "|04/26/2023|     13:30|     NULL|    NULL|     NULL|      NULL|                NULL|                        0|                       0|                  Unspecified|                  Unspecified|     4623759|               Sedan|           Box Truck|\n",
            "|11/01/2023|      7:12|     NULL|    NULL|     NULL|      NULL|                NULL|                        0|                       0|         Following Too Clo...|         Driver Inattentio...|     4675709|               Sedan|Station Wagon/Spo...|\n",
            "|11/01/2023|      8:01|     NULL|    NULL|     NULL|      NULL|                NULL|                        0|                       0|         Failure to Yield ...|                         NULL|     4675769|               Sedan|                NULL|\n",
            "|04/26/2023|     22:20|     NULL|    NULL|     NULL|      NULL|                NULL|                        0|                       0|                  Unspecified|                         NULL|     4623865|               Sedan|       Pick-up Truck|\n",
            "|09/11/2021|      9:35| BROOKLYN|   11208|40.667202|  -73.8665|(40.667202, -73.8...|                        0|                       0|                  Unspecified|                         NULL|     4456314|               Sedan|                NULL|\n",
            "|12/14/2021|      8:13| BROOKLYN|   11233|40.683304|-73.917274|(40.683304, -73.9...|                        0|                       0|                         NULL|                         NULL|     4486609|                NULL|                NULL|\n",
            "|04/14/2021|     12:47|     NULL|    NULL|     NULL|      NULL|                NULL|                        0|                       0|                  Unspecified|                  Unspecified|     4407458|                Dump|               Sedan|\n",
            "|12/14/2021|     17:05|     NULL|    NULL|40.709183|-73.956825|(40.709183, -73.9...|                        0|                       0|          Passing Too Closely|                  Unspecified|     4486555|               Sedan|Tractor Truck Diesel|\n",
            "|12/14/2021|      8:17|    BRONX|   10475| 40.86816| -73.83148|(40.86816, -73.83...|                        2|                       0|                  Unspecified|                  Unspecified|     4486660|               Sedan|               Sedan|\n",
            "|12/14/2021|     21:10| BROOKLYN|   11207| 40.67172|  -73.8971|(40.67172, -73.8971)|                        0|                       0|          Driver Inexperience|                  Unspecified|     4487074|               Sedan|                NULL|\n",
            "|12/14/2021|     14:58|MANHATTAN|   10017| 40.75144| -73.97397|(40.75144, -73.97...|                        0|                       0|          Passing Too Closely|                  Unspecified|     4486519|               Sedan|Station Wagon/Spo...|\n",
            "|12/13/2021|      0:34|     NULL|    NULL|40.701275| -73.88887|(40.701275, -73.8...|                        0|                       0|         Passing or Lane U...|                  Unspecified|     4486934|Station Wagon/Spo...|                NULL|\n",
            "|12/14/2021|     16:50|   QUEENS|   11413|40.675884| -73.75577|(40.675884, -73.7...|                        0|                       0|           Turning Improperly|                  Unspecified|     4487127|               Sedan|Station Wagon/Spo...|\n",
            "|12/14/2021|      8:30|     NULL|    NULL|     NULL|      NULL|                NULL|                        0|                       0|         Unsafe Lane Changing|                  Unspecified|     4486634|Station Wagon/Spo...|               Sedan|\n",
            "|12/14/2021|      0:59|     NULL|    NULL| 40.59662| -74.00231|(40.59662, -74.00...|                        0|                       0|                 Unsafe Speed|                         NULL|     4486564|               Sedan|                NULL|\n",
            "+----------+----------+---------+--------+---------+----------+--------------------+-------------------------+------------------------+-----------------------------+-----------------------------+------------+--------------------+--------------------+\n",
            "only showing top 20 rows\n",
            "\n"
          ]
        }
      ]
    },
    {
      "cell_type": "code",
      "source": [
        "#checking for null values\n",
        "modified_one_df.select([F.sum(F.col(c).isNull().cast(\"int\")).alias(c) for c in modified_one_df.columns]).show()"
      ],
      "metadata": {
        "colab": {
          "base_uri": "https://localhost:8080/"
        },
        "id": "dGu6ZTaIe1Tl",
        "outputId": "e2dd2b3f-462d-4767-df3b-a40c7ac9c773"
      },
      "execution_count": null,
      "outputs": [
        {
          "output_type": "stream",
          "name": "stdout",
          "text": [
            "+----------+----------+-------+--------+--------+---------+--------+-------------------------+------------------------+-----------------------------+-----------------------------+------------+-------------------+-------------------+\n",
            "|CRASH DATE|CRASH TIME|BOROUGH|ZIP CODE|LATITUDE|LONGITUDE|LOCATION|NUMBER OF PERSONS INJURED|NUMBER OF PERSONS KILLED|CONTRIBUTING FACTOR VEHICLE 1|CONTRIBUTING FACTOR VEHICLE 2|COLLISION_ID|VEHICLE TYPE CODE 1|VEHICLE TYPE CODE 2|\n",
            "+----------+----------+-------+--------+--------+---------+--------+-------------------------+------------------------+-----------------------------+-----------------------------+------------+-------------------+-------------------+\n",
            "|         0|         0| 668540|  668809|  239749|   239749|  239749|                       19|                      33|                         7421|                       342481|           2|              15175|             425772|\n",
            "+----------+----------+-------+--------+--------+---------+--------+-------------------------+------------------------+-----------------------------+-----------------------------+------------+-------------------+-------------------+\n",
            "\n"
          ]
        }
      ]
    },
    {
      "cell_type": "code",
      "source": [
        "#checking unique values in borough and count\n",
        "modified_one_df.groupBy(\"BOROUGH\").count().show()"
      ],
      "metadata": {
        "colab": {
          "base_uri": "https://localhost:8080/"
        },
        "id": "32UGc04FkFtN",
        "outputId": "ca9afff1-569e-46e2-939b-90ae8047c3d1"
      },
      "execution_count": null,
      "outputs": [
        {
          "output_type": "stream",
          "name": "stdout",
          "text": [
            "+-------------+------+\n",
            "|      BOROUGH| count|\n",
            "+-------------+------+\n",
            "|         NULL|668540|\n",
            "|       QUEENS|400293|\n",
            "|     BROOKLYN|476695|\n",
            "|        BRONX|221039|\n",
            "|    MANHATTAN|331864|\n",
            "|STATEN ISLAND| 62603|\n",
            "|            0|     1|\n",
            "+-------------+------+\n",
            "\n"
          ]
        }
      ]
    },
    {
      "cell_type": "markdown",
      "source": [
        "IF i remove the null values, the analytics completely changes since the rows go down by 10,00,000 and the year by year analysis gets disrupted\n"
      ],
      "metadata": {
        "id": "T1PjZGMhjgUS"
      }
    },
    {
      "cell_type": "code",
      "source": [
        "#creating new dataframe with new column named updated borough updating the fields by mapping long and lat of the borough\n",
        "from pyspark.sql.functions import when, col\n",
        "\n",
        "modified_two_df = modified_one_df.withColumn(\n",
        "    \"updated_borough\",\n",
        "    when(col(\"borough\").isNotNull(), col(\"borough\"))  # Keep existing boroughs\n",
        "    .when(\n",
        "        (col(\"latitude\").between(40.70, 40.88)) & (col(\"longitude\").between(-74.02, -73.92)),\n",
        "        \"MANHATTAN\"\n",
        "    ).when(\n",
        "        (col(\"latitude\").between(40.57, 40.74)) & (col(\"longitude\").between(-74.05, -73.85)),\n",
        "        \"BROOKLYN\"\n",
        "    ).when(\n",
        "        (col(\"latitude\").between(40.54, 40.80)) & (col(\"longitude\").between(-73.96, -73.70)),\n",
        "        \"QUEENS\"\n",
        "    ).when(\n",
        "        (col(\"latitude\").between(40.79, 40.91)) & (col(\"longitude\").between(-73.93, -73.78)),\n",
        "        \"BRONX\"\n",
        "    ).when(\n",
        "        (col(\"latitude\").between(40.49, 40.65)) & (col(\"longitude\").between(-74.25, -74.05)),\n",
        "        \"STATEN ISLAND\"\n",
        "    ).otherwise(\"boroughunknown\")\n",
        ")"
      ],
      "metadata": {
        "id": "8rHkFXDbjSwd"
      },
      "execution_count": null,
      "outputs": []
    },
    {
      "cell_type": "code",
      "source": [
        "modified_two_df.show()"
      ],
      "metadata": {
        "colab": {
          "base_uri": "https://localhost:8080/"
        },
        "id": "peLUXKutkSms",
        "outputId": "ad4b8962-732c-4ebe-a388-f3fdfff7deef"
      },
      "execution_count": null,
      "outputs": [
        {
          "output_type": "stream",
          "name": "stdout",
          "text": [
            "+----------+----------+---------+--------+---------+----------+--------------------+-------------------------+------------------------+-----------------------------+-----------------------------+------------+--------------------+--------------------+---------------+\n",
            "|CRASH DATE|CRASH TIME|  BOROUGH|ZIP CODE| LATITUDE| LONGITUDE|            LOCATION|NUMBER OF PERSONS INJURED|NUMBER OF PERSONS KILLED|CONTRIBUTING FACTOR VEHICLE 1|CONTRIBUTING FACTOR VEHICLE 2|COLLISION_ID| VEHICLE TYPE CODE 1| VEHICLE TYPE CODE 2|updated_borough|\n",
            "+----------+----------+---------+--------+---------+----------+--------------------+-------------------------+------------------------+-----------------------------+-----------------------------+------------+--------------------+--------------------+---------------+\n",
            "|09/11/2021|      2:39|     NULL|    NULL|     NULL|      NULL|                NULL|                        2|                       0|         Aggressive Drivin...|                  Unspecified|     4455765|               Sedan|               Sedan| boroughunknown|\n",
            "|03/26/2022|     11:45|     NULL|    NULL|     NULL|      NULL|                NULL|                        1|                       0|            Pavement Slippery|                         NULL|     4513547|               Sedan|                NULL| boroughunknown|\n",
            "|11/01/2023|      1:29| BROOKLYN|   11230| 40.62179|-73.970024|(40.62179, -73.97...|                        1|                       0|                  Unspecified|                  Unspecified|     4675373|               Moped|               Sedan|       BROOKLYN|\n",
            "|06/29/2022|      6:55|     NULL|    NULL|     NULL|      NULL|                NULL|                        0|                       0|         Following Too Clo...|                  Unspecified|     4541903|               Sedan|       Pick-up Truck| boroughunknown|\n",
            "|09/21/2022|     13:21|     NULL|    NULL|     NULL|      NULL|                NULL|                        0|                       0|          Passing Too Closely|                  Unspecified|     4566131|Station Wagon/Spo...|                NULL| boroughunknown|\n",
            "|04/26/2023|     13:30|     NULL|    NULL|     NULL|      NULL|                NULL|                        0|                       0|                  Unspecified|                  Unspecified|     4623759|               Sedan|           Box Truck| boroughunknown|\n",
            "|11/01/2023|      7:12|     NULL|    NULL|     NULL|      NULL|                NULL|                        0|                       0|         Following Too Clo...|         Driver Inattentio...|     4675709|               Sedan|Station Wagon/Spo...| boroughunknown|\n",
            "|11/01/2023|      8:01|     NULL|    NULL|     NULL|      NULL|                NULL|                        0|                       0|         Failure to Yield ...|                         NULL|     4675769|               Sedan|                NULL| boroughunknown|\n",
            "|04/26/2023|     22:20|     NULL|    NULL|     NULL|      NULL|                NULL|                        0|                       0|                  Unspecified|                         NULL|     4623865|               Sedan|       Pick-up Truck| boroughunknown|\n",
            "|09/11/2021|      9:35| BROOKLYN|   11208|40.667202|  -73.8665|(40.667202, -73.8...|                        0|                       0|                  Unspecified|                         NULL|     4456314|               Sedan|                NULL|       BROOKLYN|\n",
            "|12/14/2021|      8:13| BROOKLYN|   11233|40.683304|-73.917274|(40.683304, -73.9...|                        0|                       0|                         NULL|                         NULL|     4486609|                NULL|                NULL|       BROOKLYN|\n",
            "|04/14/2021|     12:47|     NULL|    NULL|     NULL|      NULL|                NULL|                        0|                       0|                  Unspecified|                  Unspecified|     4407458|                Dump|               Sedan| boroughunknown|\n",
            "|12/14/2021|     17:05|     NULL|    NULL|40.709183|-73.956825|(40.709183, -73.9...|                        0|                       0|          Passing Too Closely|                  Unspecified|     4486555|               Sedan|Tractor Truck Diesel|      MANHATTAN|\n",
            "|12/14/2021|      8:17|    BRONX|   10475| 40.86816| -73.83148|(40.86816, -73.83...|                        2|                       0|                  Unspecified|                  Unspecified|     4486660|               Sedan|               Sedan|          BRONX|\n",
            "|12/14/2021|     21:10| BROOKLYN|   11207| 40.67172|  -73.8971|(40.67172, -73.8971)|                        0|                       0|          Driver Inexperience|                  Unspecified|     4487074|               Sedan|                NULL|       BROOKLYN|\n",
            "|12/14/2021|     14:58|MANHATTAN|   10017| 40.75144| -73.97397|(40.75144, -73.97...|                        0|                       0|          Passing Too Closely|                  Unspecified|     4486519|               Sedan|Station Wagon/Spo...|      MANHATTAN|\n",
            "|12/13/2021|      0:34|     NULL|    NULL|40.701275| -73.88887|(40.701275, -73.8...|                        0|                       0|         Passing or Lane U...|                  Unspecified|     4486934|Station Wagon/Spo...|                NULL|       BROOKLYN|\n",
            "|12/14/2021|     16:50|   QUEENS|   11413|40.675884| -73.75577|(40.675884, -73.7...|                        0|                       0|           Turning Improperly|                  Unspecified|     4487127|               Sedan|Station Wagon/Spo...|         QUEENS|\n",
            "|12/14/2021|      8:30|     NULL|    NULL|     NULL|      NULL|                NULL|                        0|                       0|         Unsafe Lane Changing|                  Unspecified|     4486634|Station Wagon/Spo...|               Sedan| boroughunknown|\n",
            "|12/14/2021|      0:59|     NULL|    NULL| 40.59662| -74.00231|(40.59662, -74.00...|                        0|                       0|                 Unsafe Speed|                         NULL|     4486564|               Sedan|                NULL|       BROOKLYN|\n",
            "+----------+----------+---------+--------+---------+----------+--------------------+-------------------------+------------------------+-----------------------------+-----------------------------+------------+--------------------+--------------------+---------------+\n",
            "only showing top 20 rows\n",
            "\n"
          ]
        }
      ]
    },
    {
      "cell_type": "code",
      "source": [
        "modified_two_df.groupBy([\"borough\",\"updated_borough\"]).count().orderBy(\"count\").show()"
      ],
      "metadata": {
        "colab": {
          "base_uri": "https://localhost:8080/"
        },
        "id": "-QZxwdo8keby",
        "outputId": "18690460-ab7c-4056-a3c3-a861a3e86f15"
      },
      "execution_count": null,
      "outputs": [
        {
          "output_type": "stream",
          "name": "stdout",
          "text": [
            "+-------------+---------------+------+\n",
            "|      borough|updated_borough| count|\n",
            "+-------------+---------------+------+\n",
            "|            0|              0|     1|\n",
            "|         NULL|  STATEN ISLAND| 33438|\n",
            "|         NULL|          BRONX| 62454|\n",
            "|STATEN ISLAND|  STATEN ISLAND| 62603|\n",
            "|         NULL|      MANHATTAN|122069|\n",
            "|         NULL|         QUEENS|122909|\n",
            "|         NULL|       BROOKLYN|124093|\n",
            "|         NULL| boroughunknown|203577|\n",
            "|        BRONX|          BRONX|221039|\n",
            "|    MANHATTAN|      MANHATTAN|331864|\n",
            "|       QUEENS|         QUEENS|400293|\n",
            "|     BROOKLYN|       BROOKLYN|476695|\n",
            "+-------------+---------------+------+\n",
            "\n"
          ]
        }
      ]
    },
    {
      "cell_type": "code",
      "source": [
        "modified_two_df.select([F.sum(F.col(c).isNull().cast(\"int\")).alias(c) for c in modified_two_df.columns]).show()"
      ],
      "metadata": {
        "colab": {
          "base_uri": "https://localhost:8080/"
        },
        "id": "hjLdphP8kw4k",
        "outputId": "cd681c59-6546-48b4-e02d-2a1260150d3b"
      },
      "execution_count": null,
      "outputs": [
        {
          "output_type": "stream",
          "name": "stdout",
          "text": [
            "+----------+----------+-------+--------+--------+---------+--------+-------------------------+------------------------+-----------------------------+-----------------------------+------------+-------------------+-------------------+---------------+\n",
            "|CRASH DATE|CRASH TIME|BOROUGH|ZIP CODE|LATITUDE|LONGITUDE|LOCATION|NUMBER OF PERSONS INJURED|NUMBER OF PERSONS KILLED|CONTRIBUTING FACTOR VEHICLE 1|CONTRIBUTING FACTOR VEHICLE 2|COLLISION_ID|VEHICLE TYPE CODE 1|VEHICLE TYPE CODE 2|updated_borough|\n",
            "+----------+----------+-------+--------+--------+---------+--------+-------------------------+------------------------+-----------------------------+-----------------------------+------------+-------------------+-------------------+---------------+\n",
            "|         0|         0| 668540|  668809|  239749|   239749|  239749|                       19|                      33|                         7421|                       342481|           2|              15175|             425772|              0|\n",
            "+----------+----------+-------+--------+--------+---------+--------+-------------------------+------------------------+-----------------------------+-----------------------------+------------+-------------------+-------------------+---------------+\n",
            "\n"
          ]
        }
      ]
    },
    {
      "cell_type": "code",
      "source": [
        "#checking unique values\n",
        "modified_two_df.groupBy(\"CONTRIBUTING FACTOR VEHICLE 1\").count().orderBy(\"count\", ascending = False).show(100)"
      ],
      "metadata": {
        "colab": {
          "base_uri": "https://localhost:8080/"
        },
        "id": "A2FfQY1tl98e",
        "outputId": "17929f60-73fb-4788-fd0c-9c799f9ce0ee"
      },
      "execution_count": null,
      "outputs": [
        {
          "output_type": "stream",
          "name": "stdout",
          "text": [
            "+-----------------------------+------+\n",
            "|CONTRIBUTING FACTOR VEHICLE 1| count|\n",
            "+-----------------------------+------+\n",
            "|                  Unspecified|728266|\n",
            "|         Driver Inattentio...|436127|\n",
            "|         Failure to Yield ...|129072|\n",
            "|         Following Too Clo...|115914|\n",
            "|             Backing Unsafely| 79261|\n",
            "|              Other Vehicular| 67102|\n",
            "|         Passing or Lane U...| 61346|\n",
            "|          Passing Too Closely| 54491|\n",
            "|           Turning Improperly| 53214|\n",
            "|              Fatigued/Drowsy| 47482|\n",
            "|         Unsafe Lane Changing| 42490|\n",
            "|         Traffic Control D...| 39271|\n",
            "|          Driver Inexperience| 34345|\n",
            "|                 Unsafe Speed| 32229|\n",
            "|          Alcohol Involvement| 24394|\n",
            "|         Reaction to Uninv...| 21056|\n",
            "|           Lost Consciousness| 20679|\n",
            "|            Pavement Slippery| 20399|\n",
            "|         Prescription Medi...| 15427|\n",
            "|         View Obstructed/L...| 14599|\n",
            "|         Outside Car Distr...| 12989|\n",
            "|            Oversized Vehicle| 12901|\n",
            "|         Pedestrian/Bicycl...| 10783|\n",
            "|         Aggressive Drivin...| 10638|\n",
            "|          Physical Disability|  9389|\n",
            "|         Passenger Distrac...|  8331|\n",
            "|                         NULL|  7421|\n",
            "|             Brakes Defective|  7235|\n",
            "|                  Fell Asleep|  6062|\n",
            "|           Obstruction/Debris|  4457|\n",
            "|                        Glare|  4296|\n",
            "|         Failure to Keep R...|  3389|\n",
            "|             Steering Failure|  3075|\n",
            "|         Tire Failure/Inad...|  2697|\n",
            "|           Pavement Defective|  2549|\n",
            "|         Other Electronic ...|  2342|\n",
            "|                      Illness|  2158|\n",
            "|                       Illnes|  1836|\n",
            "|               Animals Action|  1640|\n",
            "|         Driverless/Runawa...|  1373|\n",
            "|         Reaction to Other...|  1337|\n",
            "|         Accelerator Defec...|  1146|\n",
            "|         Lane Marking Impr...|  1043|\n",
            "|              Drugs (illegal)|   942|\n",
            "|         Traffic Control D...|   903|\n",
            "|         Cell Phone (hand-...|   574|\n",
            "|              Drugs (Illegal)|   419|\n",
            "|         Cell Phone (hands...|   277|\n",
            "|          Tow Hitch Defective|   229|\n",
            "|         Other Lighting De...|   201|\n",
            "|               Tinted Windows|   196|\n",
            "|         Using On Board Na...|   159|\n",
            "|         Headlights Defective|   150|\n",
            "|            Vehicle Vandalism|   147|\n",
            "|           Eating or Drinking|   134|\n",
            "|                           80|   101|\n",
            "|         Shoulders Defecti...|    96|\n",
            "|         Windshield Inadeq...|    86|\n",
            "|         Cell Phone (hand-...|    79|\n",
            "|                      Texting|    54|\n",
            "|         Listening/Using H...|    27|\n",
            "|                            1|    10|\n",
            "+-----------------------------+------+\n",
            "\n"
          ]
        }
      ]
    },
    {
      "cell_type": "code",
      "source": [
        "#checking unique values\n",
        "modified_two_df.groupBy(\"CONTRIBUTING FACTOR VEHICLE 2\").count().orderBy(\"count\", ascending = False).show(100)"
      ],
      "metadata": {
        "colab": {
          "base_uri": "https://localhost:8080/"
        },
        "id": "qJ_6lgf9zxgr",
        "outputId": "a89ca9ee-56eb-483f-d130-89bf216393af"
      },
      "execution_count": null,
      "outputs": [
        {
          "output_type": "stream",
          "name": "stdout",
          "text": [
            "+-----------------------------+-------+\n",
            "|CONTRIBUTING FACTOR VEHICLE 2|  count|\n",
            "+-----------------------------+-------+\n",
            "|                  Unspecified|1530936|\n",
            "|                         NULL| 342481|\n",
            "|         Driver Inattentio...|  97998|\n",
            "|              Other Vehicular|  33173|\n",
            "|         Following Too Clo...|  20038|\n",
            "|         Failure to Yield ...|  17645|\n",
            "|         Passing or Lane U...|  13433|\n",
            "|              Fatigued/Drowsy|  10842|\n",
            "|          Passing Too Closely|   9095|\n",
            "|           Turning Improperly|   8943|\n",
            "|             Backing Unsafely|   8055|\n",
            "|         Traffic Control D...|   7817|\n",
            "|          Driver Inexperience|   6983|\n",
            "|         Unsafe Lane Changing|   6963|\n",
            "|                 Unsafe Speed|   5841|\n",
            "|           Lost Consciousness|   5235|\n",
            "|            Pavement Slippery|   4242|\n",
            "|         Reaction to Uninv...|   3478|\n",
            "|         View Obstructed/L...|   3348|\n",
            "|         Prescription Medi...|   3022|\n",
            "|         Pedestrian/Bicycl...|   2630|\n",
            "|         Outside Car Distr...|   2618|\n",
            "|            Oversized Vehicle|   2341|\n",
            "|          Physical Disability|   2198|\n",
            "|         Aggressive Drivin...|   1764|\n",
            "|          Alcohol Involvement|   1681|\n",
            "|         Passenger Distrac...|   1526|\n",
            "|           Obstruction/Debris|    727|\n",
            "|         Failure to Keep R...|    704|\n",
            "|         Other Electronic ...|    630|\n",
            "|         Lane Marking Impr...|    562|\n",
            "|         Traffic Control D...|    523|\n",
            "|                  Fell Asleep|    507|\n",
            "|                        Glare|    500|\n",
            "|                      Illness|    436|\n",
            "|             Brakes Defective|    432|\n",
            "|         Reaction to Other...|    377|\n",
            "|           Pavement Defective|    195|\n",
            "|              Drugs (Illegal)|    116|\n",
            "|         Tire Failure/Inad...|    113|\n",
            "|             Steering Failure|    102|\n",
            "|         Driverless/Runawa...|    100|\n",
            "|         Accelerator Defec...|     74|\n",
            "|               Animals Action|     73|\n",
            "|         Cell Phone (hand-...|     69|\n",
            "|         Headlights Defective|     67|\n",
            "|         Other Lighting De...|     59|\n",
            "|                       Illnes|     49|\n",
            "|         Cell Phone (hands...|     49|\n",
            "|              Drugs (illegal)|     45|\n",
            "|               Tinted Windows|     44|\n",
            "|          Tow Hitch Defective|     29|\n",
            "|                           80|     22|\n",
            "|         Cell Phone (hand-...|     22|\n",
            "|         Shoulders Defecti...|     15|\n",
            "|         Using On Board Na...|     14|\n",
            "|            Vehicle Vandalism|     14|\n",
            "|           Eating or Drinking|     13|\n",
            "|         Listening/Using H...|     12|\n",
            "|         Windshield Inadeq...|      7|\n",
            "|                            1|      5|\n",
            "|                      Texting|      3|\n",
            "+-----------------------------+-------+\n",
            "\n"
          ]
        }
      ]
    },
    {
      "cell_type": "code",
      "source": [
        "#checking unique values\n",
        "modified_two_df.groupBy(\"VEHICLE TYPE CODE 1\").count().orderBy(\"count\", ascending = False).show(50,truncate = False)"
      ],
      "metadata": {
        "colab": {
          "base_uri": "https://localhost:8080/"
        },
        "id": "vq8HLWB8mPC5",
        "outputId": "51feafcb-d802-451f-a07d-7a0722300919"
      },
      "execution_count": null,
      "outputs": [
        {
          "output_type": "stream",
          "name": "stdout",
          "text": [
            "+-----------------------------------+------+\n",
            "|VEHICLE TYPE CODE 1                |count |\n",
            "+-----------------------------------+------+\n",
            "|Sedan                              |615187|\n",
            "|Station Wagon/Sport Utility Vehicle|482780|\n",
            "|PASSENGER VEHICLE                  |416205|\n",
            "|SPORT UTILITY / STATION WAGON      |180291|\n",
            "|Taxi                               |54050 |\n",
            "|4 dr sedan                         |40182 |\n",
            "|Pick-up Truck                      |36759 |\n",
            "|TAXI                               |31911 |\n",
            "|Box Truck                          |25648 |\n",
            "|VAN                                |25266 |\n",
            "|Bus                                |23172 |\n",
            "|OTHER                              |22968 |\n",
            "|UNKNOWN                            |19938 |\n",
            "|Bike                               |16611 |\n",
            "|NULL                               |15175 |\n",
            "|LARGE COM VEH(6 OR MORE TIRES)     |14397 |\n",
            "|BUS                                |13993 |\n",
            "|SMALL COM VEH(4 TIRES)             |13216 |\n",
            "|PICK-UP TRUCK                      |11505 |\n",
            "|Tractor Truck Diesel               |10927 |\n",
            "|LIVERY VEHICLE                     |10481 |\n",
            "|Van                                |9474  |\n",
            "|Motorcycle                         |9033  |\n",
            "|Ambulance                          |4906  |\n",
            "|MOTORCYCLE                         |4195  |\n",
            "|Dump                               |4093  |\n",
            "|Convertible                        |4002  |\n",
            "|E-Bike                             |3741  |\n",
            "|PK                                 |2733  |\n",
            "|AMBULANCE                          |2702  |\n",
            "|2 dr sedan                         |2653  |\n",
            "|E-Scooter                          |2619  |\n",
            "|Flat Bed                           |2561  |\n",
            "|Moped                              |2508  |\n",
            "|Garbage or Refuse                  |2459  |\n",
            "|Carry All                          |2020  |\n",
            "|Tractor Truck Gasoline             |1642  |\n",
            "|Tow Truck / Wrecker                |1442  |\n",
            "|Chassis Cab                        |952   |\n",
            "|FIRE TRUCK                         |884   |\n",
            "|Tanker                             |862   |\n",
            "|Motorscooter                       |825   |\n",
            "|Motorbike                          |562   |\n",
            "|BICYCLE                            |559   |\n",
            "|Concrete Mixer                     |509   |\n",
            "|Refrigerated Van                   |482   |\n",
            "|van                                |447   |\n",
            "|Flat Rack                          |423   |\n",
            "|AMBUL                              |376   |\n",
            "|Armored Truck                      |360   |\n",
            "+-----------------------------------+------+\n",
            "only showing top 50 rows\n",
            "\n"
          ]
        }
      ]
    },
    {
      "cell_type": "code",
      "source": [
        "#checking unique values\n",
        "modified_two_df.groupBy(\"VEHICLE TYPE CODE 2\").count().orderBy(\"count\", ascending = False).show(50,truncate = False)"
      ],
      "metadata": {
        "colab": {
          "base_uri": "https://localhost:8080/"
        },
        "id": "x8F4AjMPmriQ",
        "outputId": "665b2da5-31dd-4513-df26-dab5dbae9330"
      },
      "execution_count": null,
      "outputs": [
        {
          "output_type": "stream",
          "name": "stdout",
          "text": [
            "+-----------------------------------+------+\n",
            "|VEHICLE TYPE CODE 2                |count |\n",
            "+-----------------------------------+------+\n",
            "|Sedan                              |425810|\n",
            "|NULL                               |425772|\n",
            "|Station Wagon/Sport Utility Vehicle|343363|\n",
            "|PASSENGER VEHICLE                  |318606|\n",
            "|SPORT UTILITY / STATION WAGON      |140204|\n",
            "|UNKNOWN                            |81532 |\n",
            "|Taxi                               |38407 |\n",
            "|Bike                               |35225 |\n",
            "|Pick-up Truck                      |32999 |\n",
            "|4 dr sedan                         |30087 |\n",
            "|Box Truck                          |29897 |\n",
            "|TAXI                               |27702 |\n",
            "|VAN                                |22769 |\n",
            "|OTHER                              |21692 |\n",
            "|Bus                                |20665 |\n",
            "|BICYCLE                            |18555 |\n",
            "|LARGE COM VEH(6 OR MORE TIRES)     |13687 |\n",
            "|SMALL COM VEH(4 TIRES)             |12962 |\n",
            "|BUS                                |11502 |\n",
            "|Tractor Truck Diesel               |10807 |\n",
            "|PICK-UP TRUCK                      |10672 |\n",
            "|Van                                |8841  |\n",
            "|LIVERY VEHICLE                     |8458  |\n",
            "|Motorcycle                         |7703  |\n",
            "|E-Bike                             |6865  |\n",
            "|E-Scooter                          |4500  |\n",
            "|Dump                               |4237  |\n",
            "|Moped                              |3602  |\n",
            "|MOTORCYCLE                         |3526  |\n",
            "|Flat Bed                           |2780  |\n",
            "|Ambulance                          |2659  |\n",
            "|Convertible                        |2587  |\n",
            "|PK                                 |2408  |\n",
            "|Garbage or Refuse                  |2350  |\n",
            "|Carry All                          |2182  |\n",
            "|2 dr sedan                         |1931  |\n",
            "|Tractor Truck Gasoline             |1782  |\n",
            "|Tow Truck / Wrecker                |1405  |\n",
            "|AMBULANCE                          |1377  |\n",
            "|Motorscooter                       |981   |\n",
            "|Chassis Cab                        |905   |\n",
            "|Tanker                             |837   |\n",
            "|Motorbike                          |775   |\n",
            "|FIRE TRUCK                         |689   |\n",
            "|Concrete Mixer                     |579   |\n",
            "|Refrigerated Van                   |542   |\n",
            "|van                                |431   |\n",
            "|SCOOTER                            |331   |\n",
            "|UNKNO                              |323   |\n",
            "|MOPED                              |319   |\n",
            "+-----------------------------------+------+\n",
            "only showing top 50 rows\n",
            "\n"
          ]
        }
      ]
    },
    {
      "cell_type": "code",
      "source": [
        "modified_two_df.columns"
      ],
      "metadata": {
        "colab": {
          "base_uri": "https://localhost:8080/"
        },
        "id": "kV39T-8r0Sot",
        "outputId": "0b25d6cc-ca8b-4c29-996a-9f390cbf3f28"
      },
      "execution_count": null,
      "outputs": [
        {
          "output_type": "execute_result",
          "data": {
            "text/plain": [
              "['CRASH DATE',\n",
              " 'CRASH TIME',\n",
              " 'BOROUGH',\n",
              " 'ZIP CODE',\n",
              " 'LATITUDE',\n",
              " 'LONGITUDE',\n",
              " 'LOCATION',\n",
              " 'NUMBER OF PERSONS INJURED',\n",
              " 'NUMBER OF PERSONS KILLED',\n",
              " 'CONTRIBUTING FACTOR VEHICLE 1',\n",
              " 'CONTRIBUTING FACTOR VEHICLE 2',\n",
              " 'COLLISION_ID',\n",
              " 'VEHICLE TYPE CODE 1',\n",
              " 'VEHICLE TYPE CODE 2',\n",
              " 'updated_borough']"
            ]
          },
          "metadata": {},
          "execution_count": 23
        }
      ]
    },
    {
      "cell_type": "code",
      "source": [
        "#Dropping the unnecessary columns\n",
        "modified_three_df = modified_two_df.drop('BOROUGH',\n",
        " 'ZIP CODE',\n",
        " 'LATITUDE',\n",
        " 'LONGITUDE',\n",
        " 'LOCATION','CONTRIBUTING FACTOR VEHICLE 2','VEHICLE TYPE CODE 2','COLLISION_ID')"
      ],
      "metadata": {
        "id": "uvk8fibDz8m1"
      },
      "execution_count": null,
      "outputs": []
    },
    {
      "cell_type": "code",
      "source": [
        "modified_three_df.show()"
      ],
      "metadata": {
        "colab": {
          "base_uri": "https://localhost:8080/"
        },
        "id": "nJdLK9Uz0etu",
        "outputId": "b1f28bff-f860-4f0d-e413-1b92d129e681"
      },
      "execution_count": null,
      "outputs": [
        {
          "output_type": "stream",
          "name": "stdout",
          "text": [
            "+----------+----------+-------------------------+------------------------+-----------------------------+--------------------+---------------+\n",
            "|CRASH DATE|CRASH TIME|NUMBER OF PERSONS INJURED|NUMBER OF PERSONS KILLED|CONTRIBUTING FACTOR VEHICLE 1| VEHICLE TYPE CODE 1|updated_borough|\n",
            "+----------+----------+-------------------------+------------------------+-----------------------------+--------------------+---------------+\n",
            "|09/11/2021|      2:39|                        2|                       0|         Aggressive Drivin...|               Sedan| boroughunknown|\n",
            "|03/26/2022|     11:45|                        1|                       0|            Pavement Slippery|               Sedan| boroughunknown|\n",
            "|11/01/2023|      1:29|                        1|                       0|                  Unspecified|               Moped|       BROOKLYN|\n",
            "|06/29/2022|      6:55|                        0|                       0|         Following Too Clo...|               Sedan| boroughunknown|\n",
            "|09/21/2022|     13:21|                        0|                       0|          Passing Too Closely|Station Wagon/Spo...| boroughunknown|\n",
            "|04/26/2023|     13:30|                        0|                       0|                  Unspecified|               Sedan| boroughunknown|\n",
            "|11/01/2023|      7:12|                        0|                       0|         Following Too Clo...|               Sedan| boroughunknown|\n",
            "|11/01/2023|      8:01|                        0|                       0|         Failure to Yield ...|               Sedan| boroughunknown|\n",
            "|04/26/2023|     22:20|                        0|                       0|                  Unspecified|               Sedan| boroughunknown|\n",
            "|09/11/2021|      9:35|                        0|                       0|                  Unspecified|               Sedan|       BROOKLYN|\n",
            "|12/14/2021|      8:13|                        0|                       0|                         NULL|                NULL|       BROOKLYN|\n",
            "|04/14/2021|     12:47|                        0|                       0|                  Unspecified|                Dump| boroughunknown|\n",
            "|12/14/2021|     17:05|                        0|                       0|          Passing Too Closely|               Sedan|      MANHATTAN|\n",
            "|12/14/2021|      8:17|                        2|                       0|                  Unspecified|               Sedan|          BRONX|\n",
            "|12/14/2021|     21:10|                        0|                       0|          Driver Inexperience|               Sedan|       BROOKLYN|\n",
            "|12/14/2021|     14:58|                        0|                       0|          Passing Too Closely|               Sedan|      MANHATTAN|\n",
            "|12/13/2021|      0:34|                        0|                       0|         Passing or Lane U...|Station Wagon/Spo...|       BROOKLYN|\n",
            "|12/14/2021|     16:50|                        0|                       0|           Turning Improperly|               Sedan|         QUEENS|\n",
            "|12/14/2021|      8:30|                        0|                       0|         Unsafe Lane Changing|Station Wagon/Spo...| boroughunknown|\n",
            "|12/14/2021|      0:59|                        0|                       0|                 Unsafe Speed|               Sedan|       BROOKLYN|\n",
            "+----------+----------+-------------------------+------------------------+-----------------------------+--------------------+---------------+\n",
            "only showing top 20 rows\n",
            "\n"
          ]
        }
      ]
    },
    {
      "cell_type": "code",
      "source": [
        "#checking null values\n",
        "modified_three_df.select([F.sum(F.col(c).isNull().cast(\"int\")).alias(c) for c in modified_three_df.columns]).show()"
      ],
      "metadata": {
        "colab": {
          "base_uri": "https://localhost:8080/"
        },
        "id": "b-LaXF6d0flM",
        "outputId": "d18c7c40-ce74-4435-9906-f065af3b5c3e"
      },
      "execution_count": null,
      "outputs": [
        {
          "output_type": "stream",
          "name": "stdout",
          "text": [
            "+----------+----------+-------------------------+------------------------+-----------------------------+-------------------+---------------+\n",
            "|CRASH DATE|CRASH TIME|NUMBER OF PERSONS INJURED|NUMBER OF PERSONS KILLED|CONTRIBUTING FACTOR VEHICLE 1|VEHICLE TYPE CODE 1|updated_borough|\n",
            "+----------+----------+-------------------------+------------------------+-----------------------------+-------------------+---------------+\n",
            "|         0|         0|                       19|                      33|                         7421|              15175|              0|\n",
            "+----------+----------+-------------------------+------------------------+-----------------------------+-------------------+---------------+\n",
            "\n"
          ]
        }
      ]
    },
    {
      "cell_type": "code",
      "source": [
        "#creating new column named year with just year data from crash date column\n",
        "from pyspark.sql.functions import substring,concat_ws\n",
        "modified_three_df = modified_three_df.withColumn(\"year\",substring(\"CRASH DATE\", 7, 4))\n"
      ],
      "metadata": {
        "id": "cuyS7ccj72gr"
      },
      "execution_count": null,
      "outputs": []
    },
    {
      "cell_type": "code",
      "source": [
        "modified_three_df.show()\n"
      ],
      "metadata": {
        "colab": {
          "base_uri": "https://localhost:8080/"
        },
        "id": "8pBS4lg9_jsl",
        "outputId": "8fd81cf4-c1bc-414c-b045-b8ae5f9f1c4c"
      },
      "execution_count": null,
      "outputs": [
        {
          "output_type": "stream",
          "name": "stdout",
          "text": [
            "+----------+----------+-------------------------+------------------------+-----------------------------+--------------------+---------------+----+\n",
            "|CRASH DATE|CRASH TIME|NUMBER OF PERSONS INJURED|NUMBER OF PERSONS KILLED|CONTRIBUTING FACTOR VEHICLE 1| VEHICLE TYPE CODE 1|updated_borough|year|\n",
            "+----------+----------+-------------------------+------------------------+-----------------------------+--------------------+---------------+----+\n",
            "|09/11/2021|      2:39|                        2|                       0|         Aggressive Drivin...|               Sedan| boroughunknown|2021|\n",
            "|03/26/2022|     11:45|                        1|                       0|            Pavement Slippery|               Sedan| boroughunknown|2022|\n",
            "|11/01/2023|      1:29|                        1|                       0|                  Unspecified|               Moped|       BROOKLYN|2023|\n",
            "|06/29/2022|      6:55|                        0|                       0|         Following Too Clo...|               Sedan| boroughunknown|2022|\n",
            "|09/21/2022|     13:21|                        0|                       0|          Passing Too Closely|Station Wagon/Spo...| boroughunknown|2022|\n",
            "|04/26/2023|     13:30|                        0|                       0|                  Unspecified|               Sedan| boroughunknown|2023|\n",
            "|11/01/2023|      7:12|                        0|                       0|         Following Too Clo...|               Sedan| boroughunknown|2023|\n",
            "|11/01/2023|      8:01|                        0|                       0|         Failure to Yield ...|               Sedan| boroughunknown|2023|\n",
            "|04/26/2023|     22:20|                        0|                       0|                  Unspecified|               Sedan| boroughunknown|2023|\n",
            "|09/11/2021|      9:35|                        0|                       0|                  Unspecified|               Sedan|       BROOKLYN|2021|\n",
            "|12/14/2021|      8:13|                        0|                       0|                         NULL|                NULL|       BROOKLYN|2021|\n",
            "|04/14/2021|     12:47|                        0|                       0|                  Unspecified|                Dump| boroughunknown|2021|\n",
            "|12/14/2021|     17:05|                        0|                       0|          Passing Too Closely|               Sedan|      MANHATTAN|2021|\n",
            "|12/14/2021|      8:17|                        2|                       0|                  Unspecified|               Sedan|          BRONX|2021|\n",
            "|12/14/2021|     21:10|                        0|                       0|          Driver Inexperience|               Sedan|       BROOKLYN|2021|\n",
            "|12/14/2021|     14:58|                        0|                       0|          Passing Too Closely|               Sedan|      MANHATTAN|2021|\n",
            "|12/13/2021|      0:34|                        0|                       0|         Passing or Lane U...|Station Wagon/Spo...|       BROOKLYN|2021|\n",
            "|12/14/2021|     16:50|                        0|                       0|           Turning Improperly|               Sedan|         QUEENS|2021|\n",
            "|12/14/2021|      8:30|                        0|                       0|         Unsafe Lane Changing|Station Wagon/Spo...| boroughunknown|2021|\n",
            "|12/14/2021|      0:59|                        0|                       0|                 Unsafe Speed|               Sedan|       BROOKLYN|2021|\n",
            "+----------+----------+-------------------------+------------------------+-----------------------------+--------------------+---------------+----+\n",
            "only showing top 20 rows\n",
            "\n"
          ]
        }
      ]
    },
    {
      "cell_type": "code",
      "source": [
        "#unique values in year\n",
        "modified_three_df.groupBy(\"year\").count().orderBy(\"count\", ascending = False).show(50,truncate = False)"
      ],
      "metadata": {
        "colab": {
          "base_uri": "https://localhost:8080/"
        },
        "id": "GnErhPa6_rYc",
        "outputId": "c3ad4efe-1adb-488a-912a-2abc58ecf5d5"
      },
      "execution_count": null,
      "outputs": [
        {
          "output_type": "stream",
          "name": "stdout",
          "text": [
            "+----+------+\n",
            "|year|count |\n",
            "+----+------+\n",
            "|2018|231564|\n",
            "|2017|231007|\n",
            "|2016|229831|\n",
            "|2015|217695|\n",
            "|2019|211486|\n",
            "|2014|206045|\n",
            "|2013|203742|\n",
            "|2020|112916|\n",
            "|2021|110557|\n",
            "|2022|103886|\n",
            "|2012|100545|\n",
            "|2023|96605 |\n",
            "|2024|91276 |\n",
            "|2025|13879 |\n",
            "|NG L|1     |\n",
            "+----+------+\n",
            "\n"
          ]
        }
      ]
    },
    {
      "cell_type": "code",
      "source": [
        "modified_three_df = modified_three_df.dropna()"
      ],
      "metadata": {
        "id": "YK5Z0QCY_4cY"
      },
      "execution_count": null,
      "outputs": []
    },
    {
      "cell_type": "code",
      "source": [
        "#checking if dropping the null values is affecting the yearly analysis and since it doesnt , i drop the null values\n",
        "modified_three_df.groupBy(\"year\").count().orderBy(\"count\", ascending = False).show(50,truncate = False)"
      ],
      "metadata": {
        "colab": {
          "base_uri": "https://localhost:8080/"
        },
        "id": "oAIBWu-0AJXV",
        "outputId": "7b703d4a-fe83-401a-d26c-f49207ab509a"
      },
      "execution_count": null,
      "outputs": [
        {
          "output_type": "stream",
          "name": "stdout",
          "text": [
            "+----+------+\n",
            "|year|count |\n",
            "+----+------+\n",
            "|2018|230018|\n",
            "|2017|229520|\n",
            "|2016|226587|\n",
            "|2015|216839|\n",
            "|2019|209952|\n",
            "|2014|204819|\n",
            "|2013|203376|\n",
            "|2020|111734|\n",
            "|2021|109160|\n",
            "|2022|102310|\n",
            "|2012|100540|\n",
            "|2023|94919 |\n",
            "|2024|89576 |\n",
            "|2025|13585 |\n",
            "+----+------+\n",
            "\n"
          ]
        }
      ]
    },
    {
      "cell_type": "code",
      "source": [
        "modified_three_df.select([F.sum(F.col(c).isNull().cast(\"int\")).alias(c) for c in modified_three_df.columns]).show()"
      ],
      "metadata": {
        "colab": {
          "base_uri": "https://localhost:8080/"
        },
        "id": "i1wILyKzALUj",
        "outputId": "b2c27678-f3f5-4ca1-cc6c-026f6c6ba2e8"
      },
      "execution_count": null,
      "outputs": [
        {
          "output_type": "stream",
          "name": "stdout",
          "text": [
            "+----------+----------+-------------------------+------------------------+-----------------------------+-------------------+---------------+----+\n",
            "|CRASH DATE|CRASH TIME|NUMBER OF PERSONS INJURED|NUMBER OF PERSONS KILLED|CONTRIBUTING FACTOR VEHICLE 1|VEHICLE TYPE CODE 1|updated_borough|year|\n",
            "+----------+----------+-------------------------+------------------------+-----------------------------+-------------------+---------------+----+\n",
            "|         0|         0|                        0|                       0|                            0|                  0|              0|   0|\n",
            "+----------+----------+-------------------------+------------------------+-----------------------------+-------------------+---------------+----+\n",
            "\n"
          ]
        }
      ]
    },
    {
      "cell_type": "code",
      "source": [
        "modified_three_df.printSchema()"
      ],
      "metadata": {
        "colab": {
          "base_uri": "https://localhost:8080/"
        },
        "id": "AJOyzmwbAV3Z",
        "outputId": "1319b07a-4721-425e-d9e1-09457573c9e2"
      },
      "execution_count": null,
      "outputs": [
        {
          "output_type": "stream",
          "name": "stdout",
          "text": [
            "root\n",
            " |-- CRASH DATE: string (nullable = true)\n",
            " |-- CRASH TIME: string (nullable = true)\n",
            " |-- NUMBER OF PERSONS INJURED: string (nullable = true)\n",
            " |-- NUMBER OF PERSONS KILLED: integer (nullable = true)\n",
            " |-- CONTRIBUTING FACTOR VEHICLE 1: string (nullable = true)\n",
            " |-- VEHICLE TYPE CODE 1: string (nullable = true)\n",
            " |-- updated_borough: string (nullable = true)\n",
            " |-- year: string (nullable = true)\n",
            "\n"
          ]
        }
      ]
    },
    {
      "cell_type": "code",
      "source": [
        "#checking unique values\n",
        "modified_three_df.groupBy(\"CONTRIBUTING FACTOR VEHICLE 1\").count().orderBy(\"count\", ascending = False).show(100,truncate = False)"
      ],
      "metadata": {
        "colab": {
          "base_uri": "https://localhost:8080/"
        },
        "id": "yNMmb4OjBPQV",
        "outputId": "d4e2b6fc-69b8-4fdd-84a5-2fd351bae9e8"
      },
      "execution_count": null,
      "outputs": [
        {
          "output_type": "stream",
          "name": "stdout",
          "text": [
            "+-----------------------------------------------------+------+\n",
            "|CONTRIBUTING FACTOR VEHICLE 1                        |count |\n",
            "+-----------------------------------------------------+------+\n",
            "|Unspecified                                          |725407|\n",
            "|Driver Inattention/Distraction                       |433378|\n",
            "|Failure to Yield Right-of-Way                        |127159|\n",
            "|Following Too Closely                                |115682|\n",
            "|Backing Unsafely                                     |78698 |\n",
            "|Other Vehicular                                      |66927 |\n",
            "|Passing or Lane Usage Improper                       |61176 |\n",
            "|Passing Too Closely                                  |54282 |\n",
            "|Turning Improperly                                   |53034 |\n",
            "|Fatigued/Drowsy                                      |47462 |\n",
            "|Unsafe Lane Changing                                 |42399 |\n",
            "|Traffic Control Disregarded                          |38980 |\n",
            "|Driver Inexperience                                  |34223 |\n",
            "|Unsafe Speed                                         |31873 |\n",
            "|Alcohol Involvement                                  |24334 |\n",
            "|Reaction to Uninvolved Vehicle                       |21026 |\n",
            "|Lost Consciousness                                   |20667 |\n",
            "|Pavement Slippery                                    |20369 |\n",
            "|Prescription Medication                              |15418 |\n",
            "|View Obstructed/Limited                              |14559 |\n",
            "|Outside Car Distraction                              |12973 |\n",
            "|Oversized Vehicle                                    |12833 |\n",
            "|Pedestrian/Bicyclist/Other Pedestrian Error/Confusion|10661 |\n",
            "|Aggressive Driving/Road Rage                         |10486 |\n",
            "|Physical Disability                                  |9378  |\n",
            "|Passenger Distraction                                |8305  |\n",
            "|Brakes Defective                                     |7221  |\n",
            "|Fell Asleep                                          |6051  |\n",
            "|Obstruction/Debris                                   |4435  |\n",
            "|Glare                                                |4288  |\n",
            "|Failure to Keep Right                                |3379  |\n",
            "|Steering Failure                                     |3071  |\n",
            "|Tire Failure/Inadequate                              |2694  |\n",
            "|Pavement Defective                                   |2541  |\n",
            "|Other Electronic Device                              |2335  |\n",
            "|Illness                                              |2157  |\n",
            "|Illnes                                               |1832  |\n",
            "|Animals Action                                       |1608  |\n",
            "|Driverless/Runaway Vehicle                           |1357  |\n",
            "|Reaction to Other Uninvolved Vehicle                 |1333  |\n",
            "|Accelerator Defective                                |1143  |\n",
            "|Lane Marking Improper/Inadequate                     |1039  |\n",
            "|Drugs (illegal)                                      |938   |\n",
            "|Traffic Control Device Improper/Non-Working          |901   |\n",
            "|Cell Phone (hand-Held)                               |569   |\n",
            "|Drugs (Illegal)                                      |419   |\n",
            "|Cell Phone (hands-free)                              |275   |\n",
            "|Tow Hitch Defective                                  |228   |\n",
            "|Other Lighting Defects                               |200   |\n",
            "|Tinted Windows                                       |196   |\n",
            "|Using On Board Navigation Device                     |158   |\n",
            "|Headlights Defective                                 |149   |\n",
            "|Vehicle Vandalism                                    |145   |\n",
            "|Eating or Drinking                                   |134   |\n",
            "|80                                                   |101   |\n",
            "|Shoulders Defective/Improper                         |95    |\n",
            "|Windshield Inadequate                                |85    |\n",
            "|Cell Phone (hand-held)                               |79    |\n",
            "|Texting                                              |53    |\n",
            "|Listening/Using Headphones                           |27    |\n",
            "|1                                                    |10    |\n",
            "+-----------------------------------------------------+------+\n",
            "\n"
          ]
        }
      ]
    },
    {
      "cell_type": "code",
      "source": [
        "modified_three_df.show()"
      ],
      "metadata": {
        "id": "Kdi9MdJWp5jX",
        "colab": {
          "base_uri": "https://localhost:8080/"
        },
        "outputId": "1c2a87b8-1c45-41cb-8dde-ab6db7266a44"
      },
      "execution_count": null,
      "outputs": [
        {
          "output_type": "stream",
          "name": "stdout",
          "text": [
            "+----------+----------+-------------------------+------------------------+-----------------------------+--------------------+---------------+----+\n",
            "|CRASH DATE|CRASH TIME|NUMBER OF PERSONS INJURED|NUMBER OF PERSONS KILLED|CONTRIBUTING FACTOR VEHICLE 1| VEHICLE TYPE CODE 1|updated_borough|year|\n",
            "+----------+----------+-------------------------+------------------------+-----------------------------+--------------------+---------------+----+\n",
            "|09/11/2021|      2:39|                        2|                       0|         Aggressive Drivin...|               Sedan| boroughunknown|2021|\n",
            "|03/26/2022|     11:45|                        1|                       0|            Pavement Slippery|               Sedan| boroughunknown|2022|\n",
            "|11/01/2023|      1:29|                        1|                       0|                  Unspecified|               Moped|       BROOKLYN|2023|\n",
            "|06/29/2022|      6:55|                        0|                       0|         Following Too Clo...|               Sedan| boroughunknown|2022|\n",
            "|09/21/2022|     13:21|                        0|                       0|          Passing Too Closely|Station Wagon/Spo...| boroughunknown|2022|\n",
            "|04/26/2023|     13:30|                        0|                       0|                  Unspecified|               Sedan| boroughunknown|2023|\n",
            "|11/01/2023|      7:12|                        0|                       0|         Following Too Clo...|               Sedan| boroughunknown|2023|\n",
            "|11/01/2023|      8:01|                        0|                       0|         Failure to Yield ...|               Sedan| boroughunknown|2023|\n",
            "|04/26/2023|     22:20|                        0|                       0|                  Unspecified|               Sedan| boroughunknown|2023|\n",
            "|09/11/2021|      9:35|                        0|                       0|                  Unspecified|               Sedan|       BROOKLYN|2021|\n",
            "|04/14/2021|     12:47|                        0|                       0|                  Unspecified|                Dump| boroughunknown|2021|\n",
            "|12/14/2021|     17:05|                        0|                       0|          Passing Too Closely|               Sedan|      MANHATTAN|2021|\n",
            "|12/14/2021|      8:17|                        2|                       0|                  Unspecified|               Sedan|          BRONX|2021|\n",
            "|12/14/2021|     21:10|                        0|                       0|          Driver Inexperience|               Sedan|       BROOKLYN|2021|\n",
            "|12/14/2021|     14:58|                        0|                       0|          Passing Too Closely|               Sedan|      MANHATTAN|2021|\n",
            "|12/13/2021|      0:34|                        0|                       0|         Passing or Lane U...|Station Wagon/Spo...|       BROOKLYN|2021|\n",
            "|12/14/2021|     16:50|                        0|                       0|           Turning Improperly|               Sedan|         QUEENS|2021|\n",
            "|12/14/2021|      8:30|                        0|                       0|         Unsafe Lane Changing|Station Wagon/Spo...| boroughunknown|2021|\n",
            "|12/14/2021|      0:59|                        0|                       0|                 Unsafe Speed|               Sedan|       BROOKLYN|2021|\n",
            "|12/14/2021|     23:10|                        2|                       0|         Reaction to Uninv...|               Sedan|         QUEENS|2021|\n",
            "+----------+----------+-------------------------+------------------------+-----------------------------+--------------------+---------------+----+\n",
            "only showing top 20 rows\n",
            "\n"
          ]
        }
      ]
    },
    {
      "cell_type": "code",
      "source": [
        "#checking unique values\n",
        "modified_three_df.groupBy(\"VEHICLE TYPE CODE 1\").count().orderBy(\"count\", ascending = False).show(100,truncate = False)"
      ],
      "metadata": {
        "colab": {
          "base_uri": "https://localhost:8080/"
        },
        "id": "LEyyBpUPMzis",
        "outputId": "65b13db8-9b41-4461-94e3-0527a3dec919"
      },
      "execution_count": null,
      "outputs": [
        {
          "output_type": "stream",
          "name": "stdout",
          "text": [
            "+-----------------------------------+------+\n",
            "|VEHICLE TYPE CODE 1                |count |\n",
            "+-----------------------------------+------+\n",
            "|Sedan                              |614639|\n",
            "|Station Wagon/Sport Utility Vehicle|482479|\n",
            "|PASSENGER VEHICLE                  |415497|\n",
            "|SPORT UTILITY / STATION WAGON      |179932|\n",
            "|Taxi                               |54012 |\n",
            "|4 dr sedan                         |40142 |\n",
            "|Pick-up Truck                      |36729 |\n",
            "|TAXI                               |31800 |\n",
            "|Box Truck                          |25624 |\n",
            "|VAN                                |25184 |\n",
            "|Bus                                |23147 |\n",
            "|OTHER                              |22879 |\n",
            "|UNKNOWN                            |19904 |\n",
            "|Bike                               |16577 |\n",
            "|LARGE COM VEH(6 OR MORE TIRES)     |14318 |\n",
            "|BUS                                |13933 |\n",
            "|SMALL COM VEH(4 TIRES)             |13138 |\n",
            "|PICK-UP TRUCK                      |11468 |\n",
            "|Tractor Truck Diesel               |10922 |\n",
            "|LIVERY VEHICLE                     |10444 |\n",
            "|Van                                |9467  |\n",
            "|Motorcycle                         |9017  |\n",
            "|Ambulance                          |4906  |\n",
            "|MOTORCYCLE                         |4188  |\n",
            "|Dump                               |4091  |\n",
            "|Convertible                        |4001  |\n",
            "|E-Bike                             |3679  |\n",
            "|PK                                 |2731  |\n",
            "|AMBULANCE                          |2697  |\n",
            "|2 dr sedan                         |2651  |\n",
            "|E-Scooter                          |2581  |\n",
            "|Flat Bed                           |2556  |\n",
            "|Moped                              |2494  |\n",
            "|Garbage or Refuse                  |2459  |\n",
            "|Carry All                          |2020  |\n",
            "|Tractor Truck Gasoline             |1640  |\n",
            "|Tow Truck / Wrecker                |1441  |\n",
            "|Chassis Cab                        |952   |\n",
            "|FIRE TRUCK                         |879   |\n",
            "|Tanker                             |862   |\n",
            "|Motorscooter                       |820   |\n",
            "|BICYCLE                            |558   |\n",
            "|Motorbike                          |557   |\n",
            "|Concrete Mixer                     |508   |\n",
            "|Refrigerated Van                   |480   |\n",
            "|van                                |447   |\n",
            "|Flat Rack                          |422   |\n",
            "|AMBUL                              |376   |\n",
            "|Armored Truck                      |360   |\n",
            "|3-Door                             |339   |\n",
            "|LIMO                               |330   |\n",
            "|Beverage Truck                     |304   |\n",
            "|SCOOTER                            |279   |\n",
            "|Lift Boom                          |247   |\n",
            "|TRUCK                              |216   |\n",
            "|School Bus                         |210   |\n",
            "|Stake or Rack                      |189   |\n",
            "|subn                               |173   |\n",
            "|MOPED                              |171   |\n",
            "|TRAIL                              |169   |\n",
            "|FIRE                               |161   |\n",
            "|FDNY                               |133   |\n",
            "|Snow Plow                          |122   |\n",
            "|Multi-Wheeled Vehicle              |117   |\n",
            "|E-Sco                              |109   |\n",
            "|ambul                              |99    |\n",
            "|DUMP                               |90    |\n",
            "|E-Bik                              |87    |\n",
            "|AMBU                               |82    |\n",
            "|TRACT                              |82    |\n",
            "|Ambul                              |81    |\n",
            "|TRAILER                            |79    |\n",
            "|Open Body                          |78    |\n",
            "|Bulk Agriculture                   |75    |\n",
            "|Pedicab                            |72    |\n",
            "|USPS                               |72    |\n",
            "|ambulance                          |68    |\n",
            "|UNKNO                              |67    |\n",
            "|COM                                |65    |\n",
            "|Pickup with mounted Camper         |59    |\n",
            "|trail                              |56    |\n",
            "|DELIV                              |54    |\n",
            "|COMME                              |53    |\n",
            "|Truck                              |52    |\n",
            "|SCHOO                              |50    |\n",
            "|DELV                               |49    |\n",
            "|Tow Truck                          |49    |\n",
            "|Pallet                             |49    |\n",
            "|UNK                                |46    |\n",
            "|Fire                               |46    |\n",
            "|FIRETRUCK                          |46    |\n",
            "|UTILI                              |46    |\n",
            "|truck                              |43    |\n",
            "|FDNY AMBUL                         |43    |\n",
            "|moped                              |42    |\n",
            "|TOW T                              |41    |\n",
            "|Trail                              |40    |\n",
            "|FIRET                              |40    |\n",
            "|AMB                                |40    |\n",
            "|TOW TRUCK                          |40    |\n",
            "+-----------------------------------+------+\n",
            "only showing top 100 rows\n",
            "\n"
          ]
        }
      ]
    },
    {
      "cell_type": "code",
      "source": [
        "from pyspark.sql.functions import udf, col\n",
        "from pyspark.sql.types import StringType\n",
        "\n",
        "# User Defined Funcntion to classify vehicle types\n",
        "def categorize_vehicle(vehicle):\n",
        "    if vehicle is None:\n",
        "        return \"Unknown\"\n",
        "    vehicle = vehicle.lower()\n",
        "    if \"sedan\" in vehicle or \"passenger\" in vehicle:\n",
        "        return \"Sedan\"\n",
        "    elif \"suv\" in vehicle or \"sport utility\" in vehicle or \"wagon\" in vehicle:\n",
        "        return \"SUV\"\n",
        "    elif \"truck\" in vehicle or \"pick-up\" in vehicle or \"tow\" in vehicle:\n",
        "        return \"Truck\"\n",
        "    elif \"van\" in vehicle:\n",
        "        return \"Van\"\n",
        "    elif \"taxi\" in vehicle or \"livery\" in vehicle:\n",
        "        return \"Taxi/Livery\"\n",
        "    elif \"bus\" in vehicle or \"school\" in vehicle:\n",
        "        return \"Bus\"\n",
        "    elif \"motor\" in vehicle or \"scooter\" in vehicle or \"bike\" in vehicle or \"moped\" in vehicle:\n",
        "        return \"2-Wheeler\"\n",
        "    elif \"ambul\" in vehicle or \"fire\" in vehicle or \"fdny\" in vehicle:\n",
        "        return \"Emergency\"\n",
        "    elif \"trail\" in vehicle or \"flat bed\" in vehicle or \"tanker\" in vehicle:\n",
        "        return \"Heavy Equipment\"\n",
        "    else:\n",
        "        return \"Other\"\n",
        "\n",
        "\n",
        "categorize_udf = udf(categorize_vehicle, StringType())\n",
        "\n",
        "\n",
        "modified_three_df = modified_three_df.withColumn(\"category\", categorize_udf(col(\"VEHICLE TYPE CODE 1\")))\n",
        "\n",
        "modified_three_df.groupBy(\"category\").count().orderBy(\"count\", ascending=False).show(100, truncate=False)\n"
      ],
      "metadata": {
        "colab": {
          "base_uri": "https://localhost:8080/"
        },
        "id": "_1vkDIGXNBGu",
        "outputId": "73594ff2-bc94-4807-8b2e-6d72f1865bd3"
      },
      "execution_count": null,
      "outputs": [
        {
          "output_type": "stream",
          "name": "stdout",
          "text": [
            "+---------------+-------+\n",
            "|category       |count  |\n",
            "+---------------+-------+\n",
            "|Sedan          |1072959|\n",
            "|SUV            |662498 |\n",
            "|Taxi/Livery    |96294  |\n",
            "|Other          |94420  |\n",
            "|Truck          |90253  |\n",
            "|2-Wheeler      |40634  |\n",
            "|Bus            |37435  |\n",
            "|Van            |35715  |\n",
            "|Emergency      |8898   |\n",
            "|Heavy Equipment|3829   |\n",
            "+---------------+-------+\n",
            "\n"
          ]
        }
      ]
    },
    {
      "cell_type": "code",
      "source": [
        "modified_three_df.show()"
      ],
      "metadata": {
        "colab": {
          "base_uri": "https://localhost:8080/"
        },
        "id": "Lm-Bc9uMNyaa",
        "outputId": "ebc3b6b6-07d2-4836-bd65-a1fac4e3e538"
      },
      "execution_count": null,
      "outputs": [
        {
          "output_type": "stream",
          "name": "stdout",
          "text": [
            "+----------+----------+-------------------------+------------------------+-----------------------------+--------------------+---------------+----+---------+\n",
            "|CRASH DATE|CRASH TIME|NUMBER OF PERSONS INJURED|NUMBER OF PERSONS KILLED|CONTRIBUTING FACTOR VEHICLE 1| VEHICLE TYPE CODE 1|updated_borough|year| category|\n",
            "+----------+----------+-------------------------+------------------------+-----------------------------+--------------------+---------------+----+---------+\n",
            "|09/11/2021|      2:39|                        2|                       0|         Aggressive Drivin...|               Sedan| boroughunknown|2021|    Sedan|\n",
            "|03/26/2022|     11:45|                        1|                       0|            Pavement Slippery|               Sedan| boroughunknown|2022|    Sedan|\n",
            "|11/01/2023|      1:29|                        1|                       0|                  Unspecified|               Moped|       BROOKLYN|2023|2-Wheeler|\n",
            "|06/29/2022|      6:55|                        0|                       0|         Following Too Clo...|               Sedan| boroughunknown|2022|    Sedan|\n",
            "|09/21/2022|     13:21|                        0|                       0|          Passing Too Closely|Station Wagon/Spo...| boroughunknown|2022|      SUV|\n",
            "|04/26/2023|     13:30|                        0|                       0|                  Unspecified|               Sedan| boroughunknown|2023|    Sedan|\n",
            "|11/01/2023|      7:12|                        0|                       0|         Following Too Clo...|               Sedan| boroughunknown|2023|    Sedan|\n",
            "|11/01/2023|      8:01|                        0|                       0|         Failure to Yield ...|               Sedan| boroughunknown|2023|    Sedan|\n",
            "|04/26/2023|     22:20|                        0|                       0|                  Unspecified|               Sedan| boroughunknown|2023|    Sedan|\n",
            "|09/11/2021|      9:35|                        0|                       0|                  Unspecified|               Sedan|       BROOKLYN|2021|    Sedan|\n",
            "|04/14/2021|     12:47|                        0|                       0|                  Unspecified|                Dump| boroughunknown|2021|    Other|\n",
            "|12/14/2021|     17:05|                        0|                       0|          Passing Too Closely|               Sedan|      MANHATTAN|2021|    Sedan|\n",
            "|12/14/2021|      8:17|                        2|                       0|                  Unspecified|               Sedan|          BRONX|2021|    Sedan|\n",
            "|12/14/2021|     21:10|                        0|                       0|          Driver Inexperience|               Sedan|       BROOKLYN|2021|    Sedan|\n",
            "|12/14/2021|     14:58|                        0|                       0|          Passing Too Closely|               Sedan|      MANHATTAN|2021|    Sedan|\n",
            "|12/13/2021|      0:34|                        0|                       0|         Passing or Lane U...|Station Wagon/Spo...|       BROOKLYN|2021|      SUV|\n",
            "|12/14/2021|     16:50|                        0|                       0|           Turning Improperly|               Sedan|         QUEENS|2021|    Sedan|\n",
            "|12/14/2021|      8:30|                        0|                       0|         Unsafe Lane Changing|Station Wagon/Spo...| boroughunknown|2021|      SUV|\n",
            "|12/14/2021|      0:59|                        0|                       0|                 Unsafe Speed|               Sedan|       BROOKLYN|2021|    Sedan|\n",
            "|12/14/2021|     23:10|                        2|                       0|         Reaction to Uninv...|               Sedan|         QUEENS|2021|    Sedan|\n",
            "+----------+----------+-------------------------+------------------------+-----------------------------+--------------------+---------------+----+---------+\n",
            "only showing top 20 rows\n",
            "\n"
          ]
        }
      ]
    },
    {
      "cell_type": "code",
      "source": [
        "from pyspark.sql.functions import split, lpad, col\n",
        "\n",
        "# Extracting hour part from CRASH TIME\n",
        "modified_three_df = modified_three_df.withColumn(\n",
        "    \"hour\",\n",
        "    lpad(split(col(\"CRASH TIME\"), \"[.:]\").getItem(0), 2, '0')\n",
        ")"
      ],
      "metadata": {
        "id": "w22GLDb1N6_D"
      },
      "execution_count": null,
      "outputs": []
    },
    {
      "cell_type": "code",
      "source": [
        "modified_three_df.show()"
      ],
      "metadata": {
        "colab": {
          "base_uri": "https://localhost:8080/"
        },
        "id": "p-brMTAhO0Qm",
        "outputId": "1e184c4d-4ad7-4fbf-b14c-ada8fa53fd01"
      },
      "execution_count": null,
      "outputs": [
        {
          "output_type": "stream",
          "name": "stdout",
          "text": [
            "+----------+----------+-------------------------+------------------------+-----------------------------+--------------------+---------------+----+---------+----+\n",
            "|CRASH DATE|CRASH TIME|NUMBER OF PERSONS INJURED|NUMBER OF PERSONS KILLED|CONTRIBUTING FACTOR VEHICLE 1| VEHICLE TYPE CODE 1|updated_borough|year| category|hour|\n",
            "+----------+----------+-------------------------+------------------------+-----------------------------+--------------------+---------------+----+---------+----+\n",
            "|09/11/2021|      2:39|                        2|                       0|         Aggressive Drivin...|               Sedan| boroughunknown|2021|    Sedan|  02|\n",
            "|03/26/2022|     11:45|                        1|                       0|            Pavement Slippery|               Sedan| boroughunknown|2022|    Sedan|  11|\n",
            "|11/01/2023|      1:29|                        1|                       0|                  Unspecified|               Moped|       BROOKLYN|2023|2-Wheeler|  01|\n",
            "|06/29/2022|      6:55|                        0|                       0|         Following Too Clo...|               Sedan| boroughunknown|2022|    Sedan|  06|\n",
            "|09/21/2022|     13:21|                        0|                       0|          Passing Too Closely|Station Wagon/Spo...| boroughunknown|2022|      SUV|  13|\n",
            "|04/26/2023|     13:30|                        0|                       0|                  Unspecified|               Sedan| boroughunknown|2023|    Sedan|  13|\n",
            "|11/01/2023|      7:12|                        0|                       0|         Following Too Clo...|               Sedan| boroughunknown|2023|    Sedan|  07|\n",
            "|11/01/2023|      8:01|                        0|                       0|         Failure to Yield ...|               Sedan| boroughunknown|2023|    Sedan|  08|\n",
            "|04/26/2023|     22:20|                        0|                       0|                  Unspecified|               Sedan| boroughunknown|2023|    Sedan|  22|\n",
            "|09/11/2021|      9:35|                        0|                       0|                  Unspecified|               Sedan|       BROOKLYN|2021|    Sedan|  09|\n",
            "|04/14/2021|     12:47|                        0|                       0|                  Unspecified|                Dump| boroughunknown|2021|    Other|  12|\n",
            "|12/14/2021|     17:05|                        0|                       0|          Passing Too Closely|               Sedan|      MANHATTAN|2021|    Sedan|  17|\n",
            "|12/14/2021|      8:17|                        2|                       0|                  Unspecified|               Sedan|          BRONX|2021|    Sedan|  08|\n",
            "|12/14/2021|     21:10|                        0|                       0|          Driver Inexperience|               Sedan|       BROOKLYN|2021|    Sedan|  21|\n",
            "|12/14/2021|     14:58|                        0|                       0|          Passing Too Closely|               Sedan|      MANHATTAN|2021|    Sedan|  14|\n",
            "|12/13/2021|      0:34|                        0|                       0|         Passing or Lane U...|Station Wagon/Spo...|       BROOKLYN|2021|      SUV|  00|\n",
            "|12/14/2021|     16:50|                        0|                       0|           Turning Improperly|               Sedan|         QUEENS|2021|    Sedan|  16|\n",
            "|12/14/2021|      8:30|                        0|                       0|         Unsafe Lane Changing|Station Wagon/Spo...| boroughunknown|2021|      SUV|  08|\n",
            "|12/14/2021|      0:59|                        0|                       0|                 Unsafe Speed|               Sedan|       BROOKLYN|2021|    Sedan|  00|\n",
            "|12/14/2021|     23:10|                        2|                       0|         Reaction to Uninv...|               Sedan|         QUEENS|2021|    Sedan|  23|\n",
            "+----------+----------+-------------------------+------------------------+-----------------------------+--------------------+---------------+----+---------+----+\n",
            "only showing top 20 rows\n",
            "\n"
          ]
        }
      ]
    },
    {
      "cell_type": "code",
      "source": [
        "modified_three_df.printSchema()"
      ],
      "metadata": {
        "colab": {
          "base_uri": "https://localhost:8080/"
        },
        "id": "q9i4N9zqO2oW",
        "outputId": "3c235ed6-81a5-417d-c213-1689410205d8"
      },
      "execution_count": null,
      "outputs": [
        {
          "output_type": "stream",
          "name": "stdout",
          "text": [
            "root\n",
            " |-- CRASH DATE: string (nullable = true)\n",
            " |-- CRASH TIME: string (nullable = true)\n",
            " |-- NUMBER OF PERSONS INJURED: string (nullable = true)\n",
            " |-- NUMBER OF PERSONS KILLED: integer (nullable = true)\n",
            " |-- CONTRIBUTING FACTOR VEHICLE 1: string (nullable = true)\n",
            " |-- VEHICLE TYPE CODE 1: string (nullable = true)\n",
            " |-- updated_borough: string (nullable = true)\n",
            " |-- year: string (nullable = true)\n",
            " |-- category: string (nullable = true)\n",
            " |-- hour: string (nullable = true)\n",
            "\n"
          ]
        }
      ]
    },
    {
      "cell_type": "code",
      "source": [
        "#changing datatypes of columns from string to integer\n",
        "from pyspark.sql.functions import col\n",
        "\n",
        "columns_list = [\"NUMBER OF PERSONS INJURED\", \"year\", \"hour\"]\n",
        "\n",
        "for column in columns_list:\n",
        "    modified_three_df = modified_three_df.withColumn(column, col(column).cast(\"int\"))"
      ],
      "metadata": {
        "id": "IttLyuokO7-J"
      },
      "execution_count": null,
      "outputs": []
    },
    {
      "cell_type": "code",
      "source": [
        "modified_three_df.columns"
      ],
      "metadata": {
        "colab": {
          "base_uri": "https://localhost:8080/"
        },
        "id": "IpcBd26gPXws",
        "outputId": "120ad337-2e1c-42e6-a038-72b974e24642"
      },
      "execution_count": null,
      "outputs": [
        {
          "output_type": "execute_result",
          "data": {
            "text/plain": [
              "['CRASH DATE',\n",
              " 'CRASH TIME',\n",
              " 'NUMBER OF PERSONS INJURED',\n",
              " 'NUMBER OF PERSONS KILLED',\n",
              " 'CONTRIBUTING FACTOR VEHICLE 1',\n",
              " 'VEHICLE TYPE CODE 1',\n",
              " 'updated_borough',\n",
              " 'year',\n",
              " 'category',\n",
              " 'hour']"
            ]
          },
          "metadata": {},
          "execution_count": 46
        }
      ]
    },
    {
      "cell_type": "code",
      "source": [
        "#dropping the unnecessary columns\n",
        "final_modified_for_db = modified_three_df.drop('CRASH DATE','CRASH TIME','VEHICLE TYPE CODE 1')"
      ],
      "metadata": {
        "id": "jlGTN1S3PYnV"
      },
      "execution_count": null,
      "outputs": []
    },
    {
      "cell_type": "code",
      "source": [
        "final_modified_for_db.rdd.count()"
      ],
      "metadata": {
        "colab": {
          "base_uri": "https://localhost:8080/"
        },
        "id": "PIZioQMHPuTC",
        "outputId": "f8237f75-dc7e-414d-e583-e741b2b7974e"
      },
      "execution_count": null,
      "outputs": [
        {
          "output_type": "execute_result",
          "data": {
            "text/plain": [
              "2142935"
            ]
          },
          "metadata": {},
          "execution_count": 52
        }
      ]
    },
    {
      "cell_type": "code",
      "source": [
        "#Converting to pandas df since spark connector to mongodb did not work\n",
        "pandas_df = final_modified_for_db.toPandas()\n"
      ],
      "metadata": {
        "id": "owmf-ZP-Pyfd"
      },
      "execution_count": null,
      "outputs": []
    },
    {
      "cell_type": "code",
      "source": [
        "import pandas as pd\n",
        "\n",
        "pandas_df.head()"
      ],
      "metadata": {
        "colab": {
          "base_uri": "https://localhost:8080/",
          "height": 206
        },
        "id": "agBQfraiQg9S",
        "outputId": "32fd8d05-f2f6-4f47-ba3e-e7587c1da57a"
      },
      "execution_count": null,
      "outputs": [
        {
          "output_type": "execute_result",
          "data": {
            "text/plain": [
              "   NUMBER OF PERSONS INJURED  NUMBER OF PERSONS KILLED  \\\n",
              "0                          2                         0   \n",
              "1                          1                         0   \n",
              "2                          1                         0   \n",
              "3                          0                         0   \n",
              "4                          0                         0   \n",
              "\n",
              "  CONTRIBUTING FACTOR VEHICLE 1 updated_borough  year   category  hour  \n",
              "0  Aggressive Driving/Road Rage  boroughunknown  2021      Sedan     2  \n",
              "1             Pavement Slippery  boroughunknown  2022      Sedan    11  \n",
              "2                   Unspecified        BROOKLYN  2023  2-Wheeler     1  \n",
              "3         Following Too Closely  boroughunknown  2022      Sedan     6  \n",
              "4           Passing Too Closely  boroughunknown  2022        SUV    13  "
            ],
            "text/html": [
              "\n",
              "  <div id=\"df-1bdf0265-871f-418b-a9f0-05e17ca1d883\" class=\"colab-df-container\">\n",
              "    <div>\n",
              "<style scoped>\n",
              "    .dataframe tbody tr th:only-of-type {\n",
              "        vertical-align: middle;\n",
              "    }\n",
              "\n",
              "    .dataframe tbody tr th {\n",
              "        vertical-align: top;\n",
              "    }\n",
              "\n",
              "    .dataframe thead th {\n",
              "        text-align: right;\n",
              "    }\n",
              "</style>\n",
              "<table border=\"1\" class=\"dataframe\">\n",
              "  <thead>\n",
              "    <tr style=\"text-align: right;\">\n",
              "      <th></th>\n",
              "      <th>NUMBER OF PERSONS INJURED</th>\n",
              "      <th>NUMBER OF PERSONS KILLED</th>\n",
              "      <th>CONTRIBUTING FACTOR VEHICLE 1</th>\n",
              "      <th>updated_borough</th>\n",
              "      <th>year</th>\n",
              "      <th>category</th>\n",
              "      <th>hour</th>\n",
              "    </tr>\n",
              "  </thead>\n",
              "  <tbody>\n",
              "    <tr>\n",
              "      <th>0</th>\n",
              "      <td>2</td>\n",
              "      <td>0</td>\n",
              "      <td>Aggressive Driving/Road Rage</td>\n",
              "      <td>boroughunknown</td>\n",
              "      <td>2021</td>\n",
              "      <td>Sedan</td>\n",
              "      <td>2</td>\n",
              "    </tr>\n",
              "    <tr>\n",
              "      <th>1</th>\n",
              "      <td>1</td>\n",
              "      <td>0</td>\n",
              "      <td>Pavement Slippery</td>\n",
              "      <td>boroughunknown</td>\n",
              "      <td>2022</td>\n",
              "      <td>Sedan</td>\n",
              "      <td>11</td>\n",
              "    </tr>\n",
              "    <tr>\n",
              "      <th>2</th>\n",
              "      <td>1</td>\n",
              "      <td>0</td>\n",
              "      <td>Unspecified</td>\n",
              "      <td>BROOKLYN</td>\n",
              "      <td>2023</td>\n",
              "      <td>2-Wheeler</td>\n",
              "      <td>1</td>\n",
              "    </tr>\n",
              "    <tr>\n",
              "      <th>3</th>\n",
              "      <td>0</td>\n",
              "      <td>0</td>\n",
              "      <td>Following Too Closely</td>\n",
              "      <td>boroughunknown</td>\n",
              "      <td>2022</td>\n",
              "      <td>Sedan</td>\n",
              "      <td>6</td>\n",
              "    </tr>\n",
              "    <tr>\n",
              "      <th>4</th>\n",
              "      <td>0</td>\n",
              "      <td>0</td>\n",
              "      <td>Passing Too Closely</td>\n",
              "      <td>boroughunknown</td>\n",
              "      <td>2022</td>\n",
              "      <td>SUV</td>\n",
              "      <td>13</td>\n",
              "    </tr>\n",
              "  </tbody>\n",
              "</table>\n",
              "</div>\n",
              "    <div class=\"colab-df-buttons\">\n",
              "\n",
              "  <div class=\"colab-df-container\">\n",
              "    <button class=\"colab-df-convert\" onclick=\"convertToInteractive('df-1bdf0265-871f-418b-a9f0-05e17ca1d883')\"\n",
              "            title=\"Convert this dataframe to an interactive table.\"\n",
              "            style=\"display:none;\">\n",
              "\n",
              "  <svg xmlns=\"http://www.w3.org/2000/svg\" height=\"24px\" viewBox=\"0 -960 960 960\">\n",
              "    <path d=\"M120-120v-720h720v720H120Zm60-500h600v-160H180v160Zm220 220h160v-160H400v160Zm0 220h160v-160H400v160ZM180-400h160v-160H180v160Zm440 0h160v-160H620v160ZM180-180h160v-160H180v160Zm440 0h160v-160H620v160Z\"/>\n",
              "  </svg>\n",
              "    </button>\n",
              "\n",
              "  <style>\n",
              "    .colab-df-container {\n",
              "      display:flex;\n",
              "      gap: 12px;\n",
              "    }\n",
              "\n",
              "    .colab-df-convert {\n",
              "      background-color: #E8F0FE;\n",
              "      border: none;\n",
              "      border-radius: 50%;\n",
              "      cursor: pointer;\n",
              "      display: none;\n",
              "      fill: #1967D2;\n",
              "      height: 32px;\n",
              "      padding: 0 0 0 0;\n",
              "      width: 32px;\n",
              "    }\n",
              "\n",
              "    .colab-df-convert:hover {\n",
              "      background-color: #E2EBFA;\n",
              "      box-shadow: 0px 1px 2px rgba(60, 64, 67, 0.3), 0px 1px 3px 1px rgba(60, 64, 67, 0.15);\n",
              "      fill: #174EA6;\n",
              "    }\n",
              "\n",
              "    .colab-df-buttons div {\n",
              "      margin-bottom: 4px;\n",
              "    }\n",
              "\n",
              "    [theme=dark] .colab-df-convert {\n",
              "      background-color: #3B4455;\n",
              "      fill: #D2E3FC;\n",
              "    }\n",
              "\n",
              "    [theme=dark] .colab-df-convert:hover {\n",
              "      background-color: #434B5C;\n",
              "      box-shadow: 0px 1px 3px 1px rgba(0, 0, 0, 0.15);\n",
              "      filter: drop-shadow(0px 1px 2px rgba(0, 0, 0, 0.3));\n",
              "      fill: #FFFFFF;\n",
              "    }\n",
              "  </style>\n",
              "\n",
              "    <script>\n",
              "      const buttonEl =\n",
              "        document.querySelector('#df-1bdf0265-871f-418b-a9f0-05e17ca1d883 button.colab-df-convert');\n",
              "      buttonEl.style.display =\n",
              "        google.colab.kernel.accessAllowed ? 'block' : 'none';\n",
              "\n",
              "      async function convertToInteractive(key) {\n",
              "        const element = document.querySelector('#df-1bdf0265-871f-418b-a9f0-05e17ca1d883');\n",
              "        const dataTable =\n",
              "          await google.colab.kernel.invokeFunction('convertToInteractive',\n",
              "                                                    [key], {});\n",
              "        if (!dataTable) return;\n",
              "\n",
              "        const docLinkHtml = 'Like what you see? Visit the ' +\n",
              "          '<a target=\"_blank\" href=https://colab.research.google.com/notebooks/data_table.ipynb>data table notebook</a>'\n",
              "          + ' to learn more about interactive tables.';\n",
              "        element.innerHTML = '';\n",
              "        dataTable['output_type'] = 'display_data';\n",
              "        await google.colab.output.renderOutput(dataTable, element);\n",
              "        const docLink = document.createElement('div');\n",
              "        docLink.innerHTML = docLinkHtml;\n",
              "        element.appendChild(docLink);\n",
              "      }\n",
              "    </script>\n",
              "  </div>\n",
              "\n",
              "\n",
              "<div id=\"df-43048996-ffcf-4cb2-ac94-afdeb2f03b2d\">\n",
              "  <button class=\"colab-df-quickchart\" onclick=\"quickchart('df-43048996-ffcf-4cb2-ac94-afdeb2f03b2d')\"\n",
              "            title=\"Suggest charts\"\n",
              "            style=\"display:none;\">\n",
              "\n",
              "<svg xmlns=\"http://www.w3.org/2000/svg\" height=\"24px\"viewBox=\"0 0 24 24\"\n",
              "     width=\"24px\">\n",
              "    <g>\n",
              "        <path d=\"M19 3H5c-1.1 0-2 .9-2 2v14c0 1.1.9 2 2 2h14c1.1 0 2-.9 2-2V5c0-1.1-.9-2-2-2zM9 17H7v-7h2v7zm4 0h-2V7h2v10zm4 0h-2v-4h2v4z\"/>\n",
              "    </g>\n",
              "</svg>\n",
              "  </button>\n",
              "\n",
              "<style>\n",
              "  .colab-df-quickchart {\n",
              "      --bg-color: #E8F0FE;\n",
              "      --fill-color: #1967D2;\n",
              "      --hover-bg-color: #E2EBFA;\n",
              "      --hover-fill-color: #174EA6;\n",
              "      --disabled-fill-color: #AAA;\n",
              "      --disabled-bg-color: #DDD;\n",
              "  }\n",
              "\n",
              "  [theme=dark] .colab-df-quickchart {\n",
              "      --bg-color: #3B4455;\n",
              "      --fill-color: #D2E3FC;\n",
              "      --hover-bg-color: #434B5C;\n",
              "      --hover-fill-color: #FFFFFF;\n",
              "      --disabled-bg-color: #3B4455;\n",
              "      --disabled-fill-color: #666;\n",
              "  }\n",
              "\n",
              "  .colab-df-quickchart {\n",
              "    background-color: var(--bg-color);\n",
              "    border: none;\n",
              "    border-radius: 50%;\n",
              "    cursor: pointer;\n",
              "    display: none;\n",
              "    fill: var(--fill-color);\n",
              "    height: 32px;\n",
              "    padding: 0;\n",
              "    width: 32px;\n",
              "  }\n",
              "\n",
              "  .colab-df-quickchart:hover {\n",
              "    background-color: var(--hover-bg-color);\n",
              "    box-shadow: 0 1px 2px rgba(60, 64, 67, 0.3), 0 1px 3px 1px rgba(60, 64, 67, 0.15);\n",
              "    fill: var(--button-hover-fill-color);\n",
              "  }\n",
              "\n",
              "  .colab-df-quickchart-complete:disabled,\n",
              "  .colab-df-quickchart-complete:disabled:hover {\n",
              "    background-color: var(--disabled-bg-color);\n",
              "    fill: var(--disabled-fill-color);\n",
              "    box-shadow: none;\n",
              "  }\n",
              "\n",
              "  .colab-df-spinner {\n",
              "    border: 2px solid var(--fill-color);\n",
              "    border-color: transparent;\n",
              "    border-bottom-color: var(--fill-color);\n",
              "    animation:\n",
              "      spin 1s steps(1) infinite;\n",
              "  }\n",
              "\n",
              "  @keyframes spin {\n",
              "    0% {\n",
              "      border-color: transparent;\n",
              "      border-bottom-color: var(--fill-color);\n",
              "      border-left-color: var(--fill-color);\n",
              "    }\n",
              "    20% {\n",
              "      border-color: transparent;\n",
              "      border-left-color: var(--fill-color);\n",
              "      border-top-color: var(--fill-color);\n",
              "    }\n",
              "    30% {\n",
              "      border-color: transparent;\n",
              "      border-left-color: var(--fill-color);\n",
              "      border-top-color: var(--fill-color);\n",
              "      border-right-color: var(--fill-color);\n",
              "    }\n",
              "    40% {\n",
              "      border-color: transparent;\n",
              "      border-right-color: var(--fill-color);\n",
              "      border-top-color: var(--fill-color);\n",
              "    }\n",
              "    60% {\n",
              "      border-color: transparent;\n",
              "      border-right-color: var(--fill-color);\n",
              "    }\n",
              "    80% {\n",
              "      border-color: transparent;\n",
              "      border-right-color: var(--fill-color);\n",
              "      border-bottom-color: var(--fill-color);\n",
              "    }\n",
              "    90% {\n",
              "      border-color: transparent;\n",
              "      border-bottom-color: var(--fill-color);\n",
              "    }\n",
              "  }\n",
              "</style>\n",
              "\n",
              "  <script>\n",
              "    async function quickchart(key) {\n",
              "      const quickchartButtonEl =\n",
              "        document.querySelector('#' + key + ' button');\n",
              "      quickchartButtonEl.disabled = true;  // To prevent multiple clicks.\n",
              "      quickchartButtonEl.classList.add('colab-df-spinner');\n",
              "      try {\n",
              "        const charts = await google.colab.kernel.invokeFunction(\n",
              "            'suggestCharts', [key], {});\n",
              "      } catch (error) {\n",
              "        console.error('Error during call to suggestCharts:', error);\n",
              "      }\n",
              "      quickchartButtonEl.classList.remove('colab-df-spinner');\n",
              "      quickchartButtonEl.classList.add('colab-df-quickchart-complete');\n",
              "    }\n",
              "    (() => {\n",
              "      let quickchartButtonEl =\n",
              "        document.querySelector('#df-43048996-ffcf-4cb2-ac94-afdeb2f03b2d button');\n",
              "      quickchartButtonEl.style.display =\n",
              "        google.colab.kernel.accessAllowed ? 'block' : 'none';\n",
              "    })();\n",
              "  </script>\n",
              "</div>\n",
              "\n",
              "    </div>\n",
              "  </div>\n"
            ],
            "application/vnd.google.colaboratory.intrinsic+json": {
              "type": "dataframe",
              "variable_name": "pandas_df"
            }
          },
          "metadata": {},
          "execution_count": 54
        }
      ]
    },
    {
      "cell_type": "code",
      "source": [
        "pip install pymongo"
      ],
      "metadata": {
        "colab": {
          "base_uri": "https://localhost:8080/"
        },
        "id": "bQtd8tAZRUxy",
        "outputId": "7592fdcd-8771-461c-b8fd-3b493fa566a3"
      },
      "execution_count": null,
      "outputs": [
        {
          "output_type": "stream",
          "name": "stdout",
          "text": [
            "Collecting pymongo\n",
            "  Downloading pymongo-4.12.0-cp311-cp311-manylinux_2_17_x86_64.manylinux2014_x86_64.whl.metadata (22 kB)\n",
            "Collecting dnspython<3.0.0,>=1.16.0 (from pymongo)\n",
            "  Downloading dnspython-2.7.0-py3-none-any.whl.metadata (5.8 kB)\n",
            "Downloading pymongo-4.12.0-cp311-cp311-manylinux_2_17_x86_64.manylinux2014_x86_64.whl (1.4 MB)\n",
            "\u001b[?25l   \u001b[90m━━━━━━━━━━━━━━━━━━━━━━━━━━━━━━━━━━━━━━━━\u001b[0m \u001b[32m0.0/1.4 MB\u001b[0m \u001b[31m?\u001b[0m eta \u001b[36m-:--:--\u001b[0m\r\u001b[2K   \u001b[91m━━━━━━━━━━━━━━━━━━━━━━━━━━━━━━━━━━━━━━━\u001b[0m\u001b[91m╸\u001b[0m \u001b[32m1.4/1.4 MB\u001b[0m \u001b[31m56.9 MB/s\u001b[0m eta \u001b[36m0:00:01\u001b[0m\r\u001b[2K   \u001b[90m━━━━━━━━━━━━━━━━━━━━━━━━━━━━━━━━━━━━━━━━\u001b[0m \u001b[32m1.4/1.4 MB\u001b[0m \u001b[31m30.6 MB/s\u001b[0m eta \u001b[36m0:00:00\u001b[0m\n",
            "\u001b[?25hDownloading dnspython-2.7.0-py3-none-any.whl (313 kB)\n",
            "\u001b[?25l   \u001b[90m━━━━━━━━━━━━━━━━━━━━━━━━━━━━━━━━━━━━━━━━\u001b[0m \u001b[32m0.0/313.6 kB\u001b[0m \u001b[31m?\u001b[0m eta \u001b[36m-:--:--\u001b[0m\r\u001b[2K   \u001b[90m━━━━━━━━━━━━━━━━━━━━━━━━━━━━━━━━━━━━━━━━\u001b[0m \u001b[32m313.6/313.6 kB\u001b[0m \u001b[31m23.2 MB/s\u001b[0m eta \u001b[36m0:00:00\u001b[0m\n",
            "\u001b[?25hInstalling collected packages: dnspython, pymongo\n",
            "Successfully installed dnspython-2.7.0 pymongo-4.12.0\n"
          ]
        }
      ]
    },
    {
      "cell_type": "code",
      "source": [
        "from pymongo import MongoClient\n",
        "connection_string = "",
        "\n",
        "\n",
        "# Connecting to the MongoDB Atlas cluster\n",
        "client = MongoClient(connection_string)\n",
        "\n",
        "# Accessing the database\n",
        "db = client.get_database(\"data_intensive_anif\")\n",
        "\n",
        "# Accessing collection\n",
        "collection = db[\"data_intensive_anif\"]\n",
        "\n",
        "data_dict = pandas_df.to_dict(\"records\")  # This converts each row to a dictionary\n",
        "\n",
        "# Inserting the data into the MongoDB collection\n",
        "collection.insert_many(data_dict)"
      ],
      "metadata": {
        "colab": {
          "base_uri": "https://localhost:8080/",
          "height": 356
        },
        "id": "Hg_XJ4YPQzyu",
        "outputId": "ed74f7c4-7453-4b9d-98fc-50124d7100f1"
      },
      "execution_count": null,
      "outputs": [
        {
          "output_type": "error",
          "ename": "OperationFailure",
          "evalue": "you are over your space quota, using 526 MB of 512 MB, full error: {'ok': 0, 'errmsg': 'you are over your space quota, using 526 MB of 512 MB', 'code': 8000, 'codeName': 'AtlasError'}",
          "traceback": [
            "\u001b[0;31m---------------------------------------------------------------------------\u001b[0m",
            "\u001b[0;31mOperationFailure\u001b[0m                          Traceback (most recent call last)",
            "\u001b[0;32m<ipython-input-58-5db25991aaf1>\u001b[0m in \u001b[0;36m<cell line: 0>\u001b[0;34m()\u001b[0m\n\u001b[1;32m     15\u001b[0m \u001b[0;34m\u001b[0m\u001b[0m\n\u001b[1;32m     16\u001b[0m \u001b[0;31m# Step 7: Insert the data into the MongoDB collection\u001b[0m\u001b[0;34m\u001b[0m\u001b[0;34m\u001b[0m\u001b[0m\n\u001b[0;32m---> 17\u001b[0;31m \u001b[0mcollection\u001b[0m\u001b[0;34m.\u001b[0m\u001b[0minsert_many\u001b[0m\u001b[0;34m(\u001b[0m\u001b[0mdata_dict\u001b[0m\u001b[0;34m)\u001b[0m\u001b[0;34m\u001b[0m\u001b[0;34m\u001b[0m\u001b[0m\n\u001b[0m",
            "\u001b[0;32m/usr/local/lib/python3.11/dist-packages/pymongo/_csot.py\u001b[0m in \u001b[0;36mcsot_wrapper\u001b[0;34m(self, *args, **kwargs)\u001b[0m\n\u001b[1;32m    117\u001b[0m                     \u001b[0;32mwith\u001b[0m \u001b[0m_TimeoutContext\u001b[0m\u001b[0;34m(\u001b[0m\u001b[0mtimeout\u001b[0m\u001b[0;34m)\u001b[0m\u001b[0;34m:\u001b[0m\u001b[0;34m\u001b[0m\u001b[0;34m\u001b[0m\u001b[0m\n\u001b[1;32m    118\u001b[0m                         \u001b[0;32mreturn\u001b[0m \u001b[0mfunc\u001b[0m\u001b[0;34m(\u001b[0m\u001b[0mself\u001b[0m\u001b[0;34m,\u001b[0m \u001b[0;34m*\u001b[0m\u001b[0margs\u001b[0m\u001b[0;34m,\u001b[0m \u001b[0;34m**\u001b[0m\u001b[0mkwargs\u001b[0m\u001b[0;34m)\u001b[0m\u001b[0;34m\u001b[0m\u001b[0;34m\u001b[0m\u001b[0m\n\u001b[0;32m--> 119\u001b[0;31m             \u001b[0;32mreturn\u001b[0m \u001b[0mfunc\u001b[0m\u001b[0;34m(\u001b[0m\u001b[0mself\u001b[0m\u001b[0;34m,\u001b[0m \u001b[0;34m*\u001b[0m\u001b[0margs\u001b[0m\u001b[0;34m,\u001b[0m \u001b[0;34m**\u001b[0m\u001b[0mkwargs\u001b[0m\u001b[0;34m)\u001b[0m\u001b[0;34m\u001b[0m\u001b[0;34m\u001b[0m\u001b[0m\n\u001b[0m\u001b[1;32m    120\u001b[0m \u001b[0;34m\u001b[0m\u001b[0m\n\u001b[1;32m    121\u001b[0m     \u001b[0;32mreturn\u001b[0m \u001b[0mcast\u001b[0m\u001b[0;34m(\u001b[0m\u001b[0mF\u001b[0m\u001b[0;34m,\u001b[0m \u001b[0mcsot_wrapper\u001b[0m\u001b[0;34m)\u001b[0m\u001b[0;34m\u001b[0m\u001b[0;34m\u001b[0m\u001b[0m\n",
            "\u001b[0;32m/usr/local/lib/python3.11/dist-packages/pymongo/synchronous/collection.py\u001b[0m in \u001b[0;36minsert_many\u001b[0;34m(self, documents, ordered, bypass_document_validation, session, comment)\u001b[0m\n\u001b[1;32m    973\u001b[0m         \u001b[0mblk\u001b[0m \u001b[0;34m=\u001b[0m \u001b[0m_Bulk\u001b[0m\u001b[0;34m(\u001b[0m\u001b[0mself\u001b[0m\u001b[0;34m,\u001b[0m \u001b[0mordered\u001b[0m\u001b[0;34m,\u001b[0m \u001b[0mbypass_document_validation\u001b[0m\u001b[0;34m,\u001b[0m \u001b[0mcomment\u001b[0m\u001b[0;34m=\u001b[0m\u001b[0mcomment\u001b[0m\u001b[0;34m)\u001b[0m\u001b[0;34m\u001b[0m\u001b[0;34m\u001b[0m\u001b[0m\n\u001b[1;32m    974\u001b[0m         \u001b[0mblk\u001b[0m\u001b[0;34m.\u001b[0m\u001b[0mops\u001b[0m \u001b[0;34m=\u001b[0m \u001b[0mlist\u001b[0m\u001b[0;34m(\u001b[0m\u001b[0mgen\u001b[0m\u001b[0;34m(\u001b[0m\u001b[0;34m)\u001b[0m\u001b[0;34m)\u001b[0m\u001b[0;34m\u001b[0m\u001b[0;34m\u001b[0m\u001b[0m\n\u001b[0;32m--> 975\u001b[0;31m         \u001b[0mblk\u001b[0m\u001b[0;34m.\u001b[0m\u001b[0mexecute\u001b[0m\u001b[0;34m(\u001b[0m\u001b[0mwrite_concern\u001b[0m\u001b[0;34m,\u001b[0m \u001b[0msession\u001b[0m\u001b[0;34m,\u001b[0m \u001b[0m_Op\u001b[0m\u001b[0;34m.\u001b[0m\u001b[0mINSERT\u001b[0m\u001b[0;34m)\u001b[0m\u001b[0;34m\u001b[0m\u001b[0;34m\u001b[0m\u001b[0m\n\u001b[0m\u001b[1;32m    976\u001b[0m         \u001b[0;32mreturn\u001b[0m \u001b[0mInsertManyResult\u001b[0m\u001b[0;34m(\u001b[0m\u001b[0minserted_ids\u001b[0m\u001b[0;34m,\u001b[0m \u001b[0mwrite_concern\u001b[0m\u001b[0;34m.\u001b[0m\u001b[0macknowledged\u001b[0m\u001b[0;34m)\u001b[0m\u001b[0;34m\u001b[0m\u001b[0;34m\u001b[0m\u001b[0m\n\u001b[1;32m    977\u001b[0m \u001b[0;34m\u001b[0m\u001b[0m\n",
            "\u001b[0;32m/usr/local/lib/python3.11/dist-packages/pymongo/synchronous/bulk.py\u001b[0m in \u001b[0;36mexecute\u001b[0;34m(self, write_concern, session, operation)\u001b[0m\n\u001b[1;32m    749\u001b[0m                 \u001b[0;32mreturn\u001b[0m \u001b[0;32mNone\u001b[0m\u001b[0;34m\u001b[0m\u001b[0;34m\u001b[0m\u001b[0m\n\u001b[1;32m    750\u001b[0m         \u001b[0;32melse\u001b[0m\u001b[0;34m:\u001b[0m\u001b[0;34m\u001b[0m\u001b[0;34m\u001b[0m\u001b[0m\n\u001b[0;32m--> 751\u001b[0;31m             \u001b[0;32mreturn\u001b[0m \u001b[0mself\u001b[0m\u001b[0;34m.\u001b[0m\u001b[0mexecute_command\u001b[0m\u001b[0;34m(\u001b[0m\u001b[0mgenerator\u001b[0m\u001b[0;34m,\u001b[0m \u001b[0mwrite_concern\u001b[0m\u001b[0;34m,\u001b[0m \u001b[0msession\u001b[0m\u001b[0;34m,\u001b[0m \u001b[0moperation\u001b[0m\u001b[0;34m)\u001b[0m\u001b[0;34m\u001b[0m\u001b[0;34m\u001b[0m\u001b[0m\n\u001b[0m",
            "\u001b[0;32m/usr/local/lib/python3.11/dist-packages/pymongo/synchronous/bulk.py\u001b[0m in \u001b[0;36mexecute_command\u001b[0;34m(self, generator, write_concern, session, operation)\u001b[0m\n\u001b[1;32m    602\u001b[0m \u001b[0;34m\u001b[0m\u001b[0m\n\u001b[1;32m    603\u001b[0m         \u001b[0mclient\u001b[0m \u001b[0;34m=\u001b[0m \u001b[0mself\u001b[0m\u001b[0;34m.\u001b[0m\u001b[0mcollection\u001b[0m\u001b[0;34m.\u001b[0m\u001b[0mdatabase\u001b[0m\u001b[0;34m.\u001b[0m\u001b[0mclient\u001b[0m\u001b[0;34m\u001b[0m\u001b[0;34m\u001b[0m\u001b[0m\n\u001b[0;32m--> 604\u001b[0;31m         _ = client._retryable_write(\n\u001b[0m\u001b[1;32m    605\u001b[0m             \u001b[0mself\u001b[0m\u001b[0;34m.\u001b[0m\u001b[0mis_retryable\u001b[0m\u001b[0;34m,\u001b[0m\u001b[0;34m\u001b[0m\u001b[0;34m\u001b[0m\u001b[0m\n\u001b[1;32m    606\u001b[0m             \u001b[0mretryable_bulk\u001b[0m\u001b[0;34m,\u001b[0m\u001b[0;34m\u001b[0m\u001b[0;34m\u001b[0m\u001b[0m\n",
            "\u001b[0;32m/usr/local/lib/python3.11/dist-packages/pymongo/synchronous/mongo_client.py\u001b[0m in \u001b[0;36m_retryable_write\u001b[0;34m(self, retryable, func, session, operation, bulk, operation_id)\u001b[0m\n\u001b[1;32m   2038\u001b[0m         \"\"\"\n\u001b[1;32m   2039\u001b[0m         \u001b[0;32mwith\u001b[0m \u001b[0mself\u001b[0m\u001b[0;34m.\u001b[0m\u001b[0m_tmp_session\u001b[0m\u001b[0;34m(\u001b[0m\u001b[0msession\u001b[0m\u001b[0;34m)\u001b[0m \u001b[0;32mas\u001b[0m \u001b[0ms\u001b[0m\u001b[0;34m:\u001b[0m\u001b[0;34m\u001b[0m\u001b[0;34m\u001b[0m\u001b[0m\n\u001b[0;32m-> 2040\u001b[0;31m             \u001b[0;32mreturn\u001b[0m \u001b[0mself\u001b[0m\u001b[0;34m.\u001b[0m\u001b[0m_retry_with_session\u001b[0m\u001b[0;34m(\u001b[0m\u001b[0mretryable\u001b[0m\u001b[0;34m,\u001b[0m \u001b[0mfunc\u001b[0m\u001b[0;34m,\u001b[0m \u001b[0ms\u001b[0m\u001b[0;34m,\u001b[0m \u001b[0mbulk\u001b[0m\u001b[0;34m,\u001b[0m \u001b[0moperation\u001b[0m\u001b[0;34m,\u001b[0m \u001b[0moperation_id\u001b[0m\u001b[0;34m)\u001b[0m\u001b[0;34m\u001b[0m\u001b[0;34m\u001b[0m\u001b[0m\n\u001b[0m\u001b[1;32m   2041\u001b[0m \u001b[0;34m\u001b[0m\u001b[0m\n\u001b[1;32m   2042\u001b[0m     def _cleanup_cursor_no_lock(\n",
            "\u001b[0;32m/usr/local/lib/python3.11/dist-packages/pymongo/synchronous/mongo_client.py\u001b[0m in \u001b[0;36m_retry_with_session\u001b[0;34m(self, retryable, func, session, bulk, operation, operation_id)\u001b[0m\n\u001b[1;32m   1924\u001b[0m             \u001b[0mretryable\u001b[0m \u001b[0;32mand\u001b[0m \u001b[0mself\u001b[0m\u001b[0;34m.\u001b[0m\u001b[0moptions\u001b[0m\u001b[0;34m.\u001b[0m\u001b[0mretry_writes\u001b[0m \u001b[0;32mand\u001b[0m \u001b[0msession\u001b[0m \u001b[0;32mand\u001b[0m \u001b[0;32mnot\u001b[0m \u001b[0msession\u001b[0m\u001b[0;34m.\u001b[0m\u001b[0min_transaction\u001b[0m\u001b[0;34m\u001b[0m\u001b[0;34m\u001b[0m\u001b[0m\n\u001b[1;32m   1925\u001b[0m         )\n\u001b[0;32m-> 1926\u001b[0;31m         return self._retry_internal(\n\u001b[0m\u001b[1;32m   1927\u001b[0m             \u001b[0mfunc\u001b[0m\u001b[0;34m=\u001b[0m\u001b[0mfunc\u001b[0m\u001b[0;34m,\u001b[0m\u001b[0;34m\u001b[0m\u001b[0;34m\u001b[0m\u001b[0m\n\u001b[1;32m   1928\u001b[0m             \u001b[0msession\u001b[0m\u001b[0;34m=\u001b[0m\u001b[0msession\u001b[0m\u001b[0;34m,\u001b[0m\u001b[0;34m\u001b[0m\u001b[0;34m\u001b[0m\u001b[0m\n",
            "\u001b[0;32m/usr/local/lib/python3.11/dist-packages/pymongo/_csot.py\u001b[0m in \u001b[0;36mcsot_wrapper\u001b[0;34m(self, *args, **kwargs)\u001b[0m\n\u001b[1;32m    117\u001b[0m                     \u001b[0;32mwith\u001b[0m \u001b[0m_TimeoutContext\u001b[0m\u001b[0;34m(\u001b[0m\u001b[0mtimeout\u001b[0m\u001b[0;34m)\u001b[0m\u001b[0;34m:\u001b[0m\u001b[0;34m\u001b[0m\u001b[0;34m\u001b[0m\u001b[0m\n\u001b[1;32m    118\u001b[0m                         \u001b[0;32mreturn\u001b[0m \u001b[0mfunc\u001b[0m\u001b[0;34m(\u001b[0m\u001b[0mself\u001b[0m\u001b[0;34m,\u001b[0m \u001b[0;34m*\u001b[0m\u001b[0margs\u001b[0m\u001b[0;34m,\u001b[0m \u001b[0;34m**\u001b[0m\u001b[0mkwargs\u001b[0m\u001b[0;34m)\u001b[0m\u001b[0;34m\u001b[0m\u001b[0;34m\u001b[0m\u001b[0m\n\u001b[0;32m--> 119\u001b[0;31m             \u001b[0;32mreturn\u001b[0m \u001b[0mfunc\u001b[0m\u001b[0;34m(\u001b[0m\u001b[0mself\u001b[0m\u001b[0;34m,\u001b[0m \u001b[0;34m*\u001b[0m\u001b[0margs\u001b[0m\u001b[0;34m,\u001b[0m \u001b[0;34m**\u001b[0m\u001b[0mkwargs\u001b[0m\u001b[0;34m)\u001b[0m\u001b[0;34m\u001b[0m\u001b[0;34m\u001b[0m\u001b[0m\n\u001b[0m\u001b[1;32m    120\u001b[0m \u001b[0;34m\u001b[0m\u001b[0m\n\u001b[1;32m    121\u001b[0m     \u001b[0;32mreturn\u001b[0m \u001b[0mcast\u001b[0m\u001b[0;34m(\u001b[0m\u001b[0mF\u001b[0m\u001b[0;34m,\u001b[0m \u001b[0mcsot_wrapper\u001b[0m\u001b[0;34m)\u001b[0m\u001b[0;34m\u001b[0m\u001b[0;34m\u001b[0m\u001b[0m\n",
            "\u001b[0;32m/usr/local/lib/python3.11/dist-packages/pymongo/synchronous/mongo_client.py\u001b[0m in \u001b[0;36m_retry_internal\u001b[0;34m(self, func, session, bulk, operation, is_read, address, read_pref, retryable, operation_id)\u001b[0m\n\u001b[1;32m   1970\u001b[0m             \u001b[0mretryable\u001b[0m\u001b[0;34m=\u001b[0m\u001b[0mretryable\u001b[0m\u001b[0;34m,\u001b[0m\u001b[0;34m\u001b[0m\u001b[0;34m\u001b[0m\u001b[0m\n\u001b[1;32m   1971\u001b[0m             \u001b[0moperation_id\u001b[0m\u001b[0;34m=\u001b[0m\u001b[0moperation_id\u001b[0m\u001b[0;34m,\u001b[0m\u001b[0;34m\u001b[0m\u001b[0;34m\u001b[0m\u001b[0m\n\u001b[0;32m-> 1972\u001b[0;31m         ).run()\n\u001b[0m\u001b[1;32m   1973\u001b[0m \u001b[0;34m\u001b[0m\u001b[0m\n\u001b[1;32m   1974\u001b[0m     def _retryable_read(\n",
            "\u001b[0;32m/usr/local/lib/python3.11/dist-packages/pymongo/synchronous/mongo_client.py\u001b[0m in \u001b[0;36mrun\u001b[0;34m(self)\u001b[0m\n\u001b[1;32m   2707\u001b[0m             \u001b[0mself\u001b[0m\u001b[0;34m.\u001b[0m\u001b[0m_check_last_error\u001b[0m\u001b[0;34m(\u001b[0m\u001b[0mcheck_csot\u001b[0m\u001b[0;34m=\u001b[0m\u001b[0;32mTrue\u001b[0m\u001b[0;34m)\u001b[0m\u001b[0;34m\u001b[0m\u001b[0;34m\u001b[0m\u001b[0m\n\u001b[1;32m   2708\u001b[0m             \u001b[0;32mtry\u001b[0m\u001b[0;34m:\u001b[0m\u001b[0;34m\u001b[0m\u001b[0;34m\u001b[0m\u001b[0m\n\u001b[0;32m-> 2709\u001b[0;31m                 \u001b[0;32mreturn\u001b[0m \u001b[0mself\u001b[0m\u001b[0;34m.\u001b[0m\u001b[0m_read\u001b[0m\u001b[0;34m(\u001b[0m\u001b[0;34m)\u001b[0m \u001b[0;32mif\u001b[0m \u001b[0mself\u001b[0m\u001b[0;34m.\u001b[0m\u001b[0m_is_read\u001b[0m \u001b[0;32melse\u001b[0m \u001b[0mself\u001b[0m\u001b[0;34m.\u001b[0m\u001b[0m_write\u001b[0m\u001b[0;34m(\u001b[0m\u001b[0;34m)\u001b[0m\u001b[0;34m\u001b[0m\u001b[0;34m\u001b[0m\u001b[0m\n\u001b[0m\u001b[1;32m   2710\u001b[0m             \u001b[0;32mexcept\u001b[0m \u001b[0mServerSelectionTimeoutError\u001b[0m\u001b[0;34m:\u001b[0m\u001b[0;34m\u001b[0m\u001b[0;34m\u001b[0m\u001b[0m\n\u001b[1;32m   2711\u001b[0m                 \u001b[0;31m# The application may think the write was never attempted\u001b[0m\u001b[0;34m\u001b[0m\u001b[0;34m\u001b[0m\u001b[0m\n",
            "\u001b[0;32m/usr/local/lib/python3.11/dist-packages/pymongo/synchronous/mongo_client.py\u001b[0m in \u001b[0;36m_write\u001b[0;34m(self)\u001b[0m\n\u001b[1;32m   2839\u001b[0m                         \u001b[0moperationId\u001b[0m\u001b[0;34m=\u001b[0m\u001b[0mself\u001b[0m\u001b[0;34m.\u001b[0m\u001b[0m_operation_id\u001b[0m\u001b[0;34m,\u001b[0m\u001b[0;34m\u001b[0m\u001b[0;34m\u001b[0m\u001b[0m\n\u001b[1;32m   2840\u001b[0m                     )\n\u001b[0;32m-> 2841\u001b[0;31m                 \u001b[0;32mreturn\u001b[0m \u001b[0mself\u001b[0m\u001b[0;34m.\u001b[0m\u001b[0m_func\u001b[0m\u001b[0;34m(\u001b[0m\u001b[0mself\u001b[0m\u001b[0;34m.\u001b[0m\u001b[0m_session\u001b[0m\u001b[0;34m,\u001b[0m \u001b[0mconn\u001b[0m\u001b[0;34m,\u001b[0m \u001b[0mself\u001b[0m\u001b[0;34m.\u001b[0m\u001b[0m_retryable\u001b[0m\u001b[0;34m)\u001b[0m  \u001b[0;31m# type: ignore\u001b[0m\u001b[0;34m\u001b[0m\u001b[0;34m\u001b[0m\u001b[0m\n\u001b[0m\u001b[1;32m   2842\u001b[0m         \u001b[0;32mexcept\u001b[0m \u001b[0mPyMongoError\u001b[0m \u001b[0;32mas\u001b[0m \u001b[0mexc\u001b[0m\u001b[0;34m:\u001b[0m\u001b[0;34m\u001b[0m\u001b[0;34m\u001b[0m\u001b[0m\n\u001b[1;32m   2843\u001b[0m             \u001b[0;32mif\u001b[0m \u001b[0;32mnot\u001b[0m \u001b[0mself\u001b[0m\u001b[0;34m.\u001b[0m\u001b[0m_retryable\u001b[0m\u001b[0;34m:\u001b[0m\u001b[0;34m\u001b[0m\u001b[0;34m\u001b[0m\u001b[0m\n",
            "\u001b[0;32m/usr/local/lib/python3.11/dist-packages/pymongo/synchronous/bulk.py\u001b[0m in \u001b[0;36mretryable_bulk\u001b[0;34m(session, conn, retryable)\u001b[0m\n\u001b[1;32m    591\u001b[0m             \u001b[0msession\u001b[0m\u001b[0;34m:\u001b[0m \u001b[0mOptional\u001b[0m\u001b[0;34m[\u001b[0m\u001b[0mClientSession\u001b[0m\u001b[0;34m]\u001b[0m\u001b[0;34m,\u001b[0m \u001b[0mconn\u001b[0m\u001b[0;34m:\u001b[0m \u001b[0mConnection\u001b[0m\u001b[0;34m,\u001b[0m \u001b[0mretryable\u001b[0m\u001b[0;34m:\u001b[0m \u001b[0mbool\u001b[0m\u001b[0;34m\u001b[0m\u001b[0;34m\u001b[0m\u001b[0m\n\u001b[1;32m    592\u001b[0m         ) -> None:\n\u001b[0;32m--> 593\u001b[0;31m             self._execute_command(\n\u001b[0m\u001b[1;32m    594\u001b[0m                 \u001b[0mgenerator\u001b[0m\u001b[0;34m,\u001b[0m\u001b[0;34m\u001b[0m\u001b[0;34m\u001b[0m\u001b[0m\n\u001b[1;32m    595\u001b[0m                 \u001b[0mwrite_concern\u001b[0m\u001b[0;34m,\u001b[0m\u001b[0;34m\u001b[0m\u001b[0;34m\u001b[0m\u001b[0m\n",
            "\u001b[0;32m/usr/local/lib/python3.11/dist-packages/pymongo/synchronous/bulk.py\u001b[0m in \u001b[0;36m_execute_command\u001b[0;34m(self, generator, write_concern, session, conn, op_id, retryable, full_result, final_write_concern)\u001b[0m\n\u001b[1;32m    536\u001b[0m                 \u001b[0;31m# Run as many ops as possible in one command.\u001b[0m\u001b[0;34m\u001b[0m\u001b[0;34m\u001b[0m\u001b[0m\n\u001b[1;32m    537\u001b[0m                 \u001b[0;32mif\u001b[0m \u001b[0mwrite_concern\u001b[0m\u001b[0;34m.\u001b[0m\u001b[0macknowledged\u001b[0m\u001b[0;34m:\u001b[0m\u001b[0;34m\u001b[0m\u001b[0;34m\u001b[0m\u001b[0m\n\u001b[0;32m--> 538\u001b[0;31m                     \u001b[0mresult\u001b[0m\u001b[0;34m,\u001b[0m \u001b[0mto_send\u001b[0m \u001b[0;34m=\u001b[0m \u001b[0mself\u001b[0m\u001b[0;34m.\u001b[0m\u001b[0m_execute_batch\u001b[0m\u001b[0;34m(\u001b[0m\u001b[0mbwc\u001b[0m\u001b[0;34m,\u001b[0m \u001b[0mcmd\u001b[0m\u001b[0;34m,\u001b[0m \u001b[0mops\u001b[0m\u001b[0;34m,\u001b[0m \u001b[0mclient\u001b[0m\u001b[0;34m)\u001b[0m\u001b[0;34m\u001b[0m\u001b[0;34m\u001b[0m\u001b[0m\n\u001b[0m\u001b[1;32m    539\u001b[0m \u001b[0;34m\u001b[0m\u001b[0m\n\u001b[1;32m    540\u001b[0m                     \u001b[0;31m# Retryable writeConcernErrors halt the execution of this run.\u001b[0m\u001b[0;34m\u001b[0m\u001b[0;34m\u001b[0m\u001b[0m\n",
            "\u001b[0;32m/usr/local/lib/python3.11/dist-packages/pymongo/synchronous/bulk.py\u001b[0m in \u001b[0;36m_execute_batch\u001b[0;34m(self, bwc, cmd, ops, client)\u001b[0m\n\u001b[1;32m    460\u001b[0m         \u001b[0;32melse\u001b[0m\u001b[0;34m:\u001b[0m\u001b[0;34m\u001b[0m\u001b[0;34m\u001b[0m\u001b[0m\n\u001b[1;32m    461\u001b[0m             \u001b[0mrequest_id\u001b[0m\u001b[0;34m,\u001b[0m \u001b[0mmsg\u001b[0m\u001b[0;34m,\u001b[0m \u001b[0mto_send\u001b[0m \u001b[0;34m=\u001b[0m \u001b[0mbwc\u001b[0m\u001b[0;34m.\u001b[0m\u001b[0mbatch_command\u001b[0m\u001b[0;34m(\u001b[0m\u001b[0mcmd\u001b[0m\u001b[0;34m,\u001b[0m \u001b[0mops\u001b[0m\u001b[0;34m)\u001b[0m\u001b[0;34m\u001b[0m\u001b[0;34m\u001b[0m\u001b[0m\n\u001b[0;32m--> 462\u001b[0;31m             \u001b[0mresult\u001b[0m \u001b[0;34m=\u001b[0m \u001b[0mself\u001b[0m\u001b[0;34m.\u001b[0m\u001b[0mwrite_command\u001b[0m\u001b[0;34m(\u001b[0m\u001b[0mbwc\u001b[0m\u001b[0;34m,\u001b[0m \u001b[0mcmd\u001b[0m\u001b[0;34m,\u001b[0m \u001b[0mrequest_id\u001b[0m\u001b[0;34m,\u001b[0m \u001b[0mmsg\u001b[0m\u001b[0;34m,\u001b[0m \u001b[0mto_send\u001b[0m\u001b[0;34m,\u001b[0m \u001b[0mclient\u001b[0m\u001b[0;34m)\u001b[0m  \u001b[0;31m# type: ignore[arg-type]\u001b[0m\u001b[0;34m\u001b[0m\u001b[0;34m\u001b[0m\u001b[0m\n\u001b[0m\u001b[1;32m    463\u001b[0m \u001b[0;34m\u001b[0m\u001b[0m\n\u001b[1;32m    464\u001b[0m         \u001b[0;32mreturn\u001b[0m \u001b[0mresult\u001b[0m\u001b[0;34m,\u001b[0m \u001b[0mto_send\u001b[0m  \u001b[0;31m# type: ignore[return-value]\u001b[0m\u001b[0;34m\u001b[0m\u001b[0;34m\u001b[0m\u001b[0m\n",
            "\u001b[0;32m/usr/local/lib/python3.11/dist-packages/pymongo/synchronous/helpers.py\u001b[0m in \u001b[0;36minner\u001b[0;34m(*args, **kwargs)\u001b[0m\n\u001b[1;32m     45\u001b[0m \u001b[0;34m\u001b[0m\u001b[0m\n\u001b[1;32m     46\u001b[0m         \u001b[0;32mtry\u001b[0m\u001b[0;34m:\u001b[0m\u001b[0;34m\u001b[0m\u001b[0;34m\u001b[0m\u001b[0m\n\u001b[0;32m---> 47\u001b[0;31m             \u001b[0;32mreturn\u001b[0m \u001b[0mfunc\u001b[0m\u001b[0;34m(\u001b[0m\u001b[0;34m*\u001b[0m\u001b[0margs\u001b[0m\u001b[0;34m,\u001b[0m \u001b[0;34m**\u001b[0m\u001b[0mkwargs\u001b[0m\u001b[0;34m)\u001b[0m\u001b[0;34m\u001b[0m\u001b[0;34m\u001b[0m\u001b[0m\n\u001b[0m\u001b[1;32m     48\u001b[0m         \u001b[0;32mexcept\u001b[0m \u001b[0mOperationFailure\u001b[0m \u001b[0;32mas\u001b[0m \u001b[0mexc\u001b[0m\u001b[0;34m:\u001b[0m\u001b[0;34m\u001b[0m\u001b[0;34m\u001b[0m\u001b[0m\n\u001b[1;32m     49\u001b[0m             \u001b[0;32mif\u001b[0m \u001b[0mno_reauth\u001b[0m\u001b[0;34m:\u001b[0m\u001b[0;34m\u001b[0m\u001b[0;34m\u001b[0m\u001b[0m\n",
            "\u001b[0;32m/usr/local/lib/python3.11/dist-packages/pymongo/synchronous/bulk.py\u001b[0m in \u001b[0;36mwrite_command\u001b[0;34m(self, bwc, cmd, request_id, msg, docs, client)\u001b[0m\n\u001b[1;32m    272\u001b[0m             \u001b[0mbwc\u001b[0m\u001b[0;34m.\u001b[0m\u001b[0m_start\u001b[0m\u001b[0;34m(\u001b[0m\u001b[0mcmd\u001b[0m\u001b[0;34m,\u001b[0m \u001b[0mrequest_id\u001b[0m\u001b[0;34m,\u001b[0m \u001b[0mdocs\u001b[0m\u001b[0;34m)\u001b[0m\u001b[0;34m\u001b[0m\u001b[0;34m\u001b[0m\u001b[0m\n\u001b[1;32m    273\u001b[0m         \u001b[0;32mtry\u001b[0m\u001b[0;34m:\u001b[0m\u001b[0;34m\u001b[0m\u001b[0;34m\u001b[0m\u001b[0m\n\u001b[0;32m--> 274\u001b[0;31m             \u001b[0mreply\u001b[0m \u001b[0;34m=\u001b[0m \u001b[0mbwc\u001b[0m\u001b[0;34m.\u001b[0m\u001b[0mconn\u001b[0m\u001b[0;34m.\u001b[0m\u001b[0mwrite_command\u001b[0m\u001b[0;34m(\u001b[0m\u001b[0mrequest_id\u001b[0m\u001b[0;34m,\u001b[0m \u001b[0mmsg\u001b[0m\u001b[0;34m,\u001b[0m \u001b[0mbwc\u001b[0m\u001b[0;34m.\u001b[0m\u001b[0mcodec\u001b[0m\u001b[0;34m)\u001b[0m  \u001b[0;31m# type: ignore[misc]\u001b[0m\u001b[0;34m\u001b[0m\u001b[0;34m\u001b[0m\u001b[0m\n\u001b[0m\u001b[1;32m    275\u001b[0m             \u001b[0mduration\u001b[0m \u001b[0;34m=\u001b[0m \u001b[0mdatetime\u001b[0m\u001b[0;34m.\u001b[0m\u001b[0mdatetime\u001b[0m\u001b[0;34m.\u001b[0m\u001b[0mnow\u001b[0m\u001b[0;34m(\u001b[0m\u001b[0;34m)\u001b[0m \u001b[0;34m-\u001b[0m \u001b[0mbwc\u001b[0m\u001b[0;34m.\u001b[0m\u001b[0mstart_time\u001b[0m\u001b[0;34m\u001b[0m\u001b[0;34m\u001b[0m\u001b[0m\n\u001b[1;32m    276\u001b[0m             \u001b[0;32mif\u001b[0m \u001b[0m_COMMAND_LOGGER\u001b[0m\u001b[0;34m.\u001b[0m\u001b[0misEnabledFor\u001b[0m\u001b[0;34m(\u001b[0m\u001b[0mlogging\u001b[0m\u001b[0;34m.\u001b[0m\u001b[0mDEBUG\u001b[0m\u001b[0;34m)\u001b[0m\u001b[0;34m:\u001b[0m\u001b[0;34m\u001b[0m\u001b[0;34m\u001b[0m\u001b[0m\n",
            "\u001b[0;32m/usr/local/lib/python3.11/dist-packages/pymongo/synchronous/pool.py\u001b[0m in \u001b[0;36mwrite_command\u001b[0;34m(self, request_id, msg, codec_options)\u001b[0m\n\u001b[1;32m    500\u001b[0m \u001b[0;34m\u001b[0m\u001b[0m\n\u001b[1;32m    501\u001b[0m         \u001b[0;31m# Raises NotPrimaryError or OperationFailure.\u001b[0m\u001b[0;34m\u001b[0m\u001b[0;34m\u001b[0m\u001b[0m\n\u001b[0;32m--> 502\u001b[0;31m         \u001b[0mhelpers_shared\u001b[0m\u001b[0;34m.\u001b[0m\u001b[0m_check_command_response\u001b[0m\u001b[0;34m(\u001b[0m\u001b[0mresult\u001b[0m\u001b[0;34m,\u001b[0m \u001b[0mself\u001b[0m\u001b[0;34m.\u001b[0m\u001b[0mmax_wire_version\u001b[0m\u001b[0;34m)\u001b[0m\u001b[0;34m\u001b[0m\u001b[0;34m\u001b[0m\u001b[0m\n\u001b[0m\u001b[1;32m    503\u001b[0m         \u001b[0;32mreturn\u001b[0m \u001b[0mresult\u001b[0m\u001b[0;34m\u001b[0m\u001b[0;34m\u001b[0m\u001b[0m\n\u001b[1;32m    504\u001b[0m \u001b[0;34m\u001b[0m\u001b[0m\n",
            "\u001b[0;32m/usr/local/lib/python3.11/dist-packages/pymongo/helpers_shared.py\u001b[0m in \u001b[0;36m_check_command_response\u001b[0;34m(response, max_wire_version, allowable_errors, parse_write_concern_error)\u001b[0m\n\u001b[1;32m    248\u001b[0m         \u001b[0;32mraise\u001b[0m \u001b[0mCursorNotFound\u001b[0m\u001b[0;34m(\u001b[0m\u001b[0merrmsg\u001b[0m\u001b[0;34m,\u001b[0m \u001b[0mcode\u001b[0m\u001b[0;34m,\u001b[0m \u001b[0mresponse\u001b[0m\u001b[0;34m,\u001b[0m \u001b[0mmax_wire_version\u001b[0m\u001b[0;34m)\u001b[0m\u001b[0;34m\u001b[0m\u001b[0;34m\u001b[0m\u001b[0m\n\u001b[1;32m    249\u001b[0m \u001b[0;34m\u001b[0m\u001b[0m\n\u001b[0;32m--> 250\u001b[0;31m     \u001b[0;32mraise\u001b[0m \u001b[0mOperationFailure\u001b[0m\u001b[0;34m(\u001b[0m\u001b[0merrmsg\u001b[0m\u001b[0;34m,\u001b[0m \u001b[0mcode\u001b[0m\u001b[0;34m,\u001b[0m \u001b[0mresponse\u001b[0m\u001b[0;34m,\u001b[0m \u001b[0mmax_wire_version\u001b[0m\u001b[0;34m)\u001b[0m\u001b[0;34m\u001b[0m\u001b[0;34m\u001b[0m\u001b[0m\n\u001b[0m\u001b[1;32m    251\u001b[0m \u001b[0;34m\u001b[0m\u001b[0m\n\u001b[1;32m    252\u001b[0m \u001b[0;34m\u001b[0m\u001b[0m\n",
            "\u001b[0;31mOperationFailure\u001b[0m: you are over your space quota, using 526 MB of 512 MB, full error: {'ok': 0, 'errmsg': 'you are over your space quota, using 526 MB of 512 MB', 'code': 8000, 'codeName': 'AtlasError'}"
          ]
        }
      ]
    },
    {
      "cell_type": "code",
      "source": [
        "#downloading the file for analysis\n",
        "pandas_df.to_csv('motorvehicle.csv', index=False)"
      ],
      "metadata": {
        "id": "tVOigroTQ-0p"
      },
      "execution_count": null,
      "outputs": []
    },
    {
      "cell_type": "code",
      "source": [],
      "metadata": {
        "id": "Pr8iaQKAVlxa"
      },
      "execution_count": null,
      "outputs": []
    }
  ]
}
